{
 "cells": [
  {
   "cell_type": "markdown",
   "id": "b68a94a4",
   "metadata": {},
   "source": [
    "# Homework 5\n",
    "\n",
    "## FINM 37400 - 2024\n",
    "\n",
    "### UChicago Financial Mathematics\n",
    "\n",
    "* Mark Hendricks\n",
    "* hendricks@uchicago.edu"
   ]
  },
  {
   "cell_type": "markdown",
   "id": "845ad7f4",
   "metadata": {},
   "source": [
    "# 1. Forward Rates"
   ]
  },
  {
   "cell_type": "markdown",
   "id": "09e62af1",
   "metadata": {},
   "source": [
    "Use the data set `famabliss_strips_2023-12-29.xlsx`.\n",
    "\n",
    "It gives prices on **zero coupon bonds** with maturities of 1 through 5 years.\n",
    "* These are prices per \\\\$1 face value on bonds that only pay principal.\n",
    "* Such bonds can be created from treasuries by *stripping* out their coupons.\n",
    "* In essence, you can consider these prices as the discount factors $Z$, for maturity intervals 1 through 5 years.\n",
    "\n",
    "In this problem, we focus on six dates: the month of December in 2018 through 2023."
   ]
  },
  {
   "cell_type": "markdown",
   "id": "04f34549",
   "metadata": {},
   "source": [
    "## 1.1\n",
    "\n",
    "For each of the six dates, (Dec 2018, Dec 2019, ...), calculate the forward discount factor, $F(t,T_1,T_2)$, where $T_2 = T_1 + 1$ for $1\\le T_1\\le 4$.\n",
    "\n",
    "Make a plot of the curve $F$ at each of these six dates."
   ]
  },
  {
   "cell_type": "markdown",
   "id": "dece6cd9",
   "metadata": {},
   "source": [
    "## 1.2\n",
    "\n"
   ]
  },
  {
   "cell_type": "markdown",
   "id": "9d851b91",
   "metadata": {},
   "source": [
    "Use $F$ above to calculate the continuously compounded forward rates, $f$, at the six dates.\n",
    "\n",
    "Make a plot of the curve, $f$, at each of these six dates."
   ]
  },
  {
   "cell_type": "markdown",
   "id": "e1067b90",
   "metadata": {},
   "source": [
    "## 1.3\n",
    "\n",
    "Calculate the continuously compounded spot rates, $r$, at the six dates.\n",
    "\n",
    "Plot both the forward curve and the spot curve on the date of Dec 2018.\n",
    "\n",
    "Recall that $f(t,t,t+1) = r(t,t+1)$."
   ]
  },
  {
   "cell_type": "markdown",
   "id": "59b6188b",
   "metadata": {},
   "source": [
    "## 1.4\n",
    "\n",
    "Plot the forward curve on Dec 2018 against the time-series evolution of $r(t,t+1)$ for dates $t$ between Dec 2018 and Dec 2022.\n",
    "\n",
    "How does the evolution of one-year rates between 2018-2022 compare to the forward rates of 2018?"
   ]
  },
  {
   "cell_type": "markdown",
   "id": "c7882da0",
   "metadata": {},
   "source": [
    "***"
   ]
  },
  {
   "cell_type": "markdown",
   "id": "7b9417df",
   "metadata": {},
   "source": [
    "# 2. Carry Trade"
   ]
  },
  {
   "cell_type": "markdown",
   "id": "58ee6f90",
   "metadata": {},
   "source": [
    "## 2.1\n",
    "\n",
    "Suppose it is December 2018, and you determine to implement a carry trade with the following specification...\n",
    "\n",
    "* Long \\\\$100 million (market value, not face value) of the 5-year zero-coupon bond (maturing Dec 2023.)\n",
    "* Short \\\\$100 million (market value, not face value) of the 1-year zero-coupon bond (maturing Dec 2019.)\n",
    "* Assume there is a 2% haircut on each side of the trade, so it requires \\\\$4 million of investor capital to initiate it.\n",
    "\n",
    "1. Calculate the total profit and loss year-by-year.\n",
    "1. Calculate the total return (Dec 2023) on the initial \\\\$4 million of investor capital.\n",
    "\n",
    "#### Short position\n",
    "* Each year you will roll over the short position to maintain a short \\\\$100 million (market value) in the 1-year bond.\n",
    "* This will require injecting more cash into the trade, as the expiring short will require more than \\$100 million to close out. \n",
    "* In Dec 2022, no need to open a new short position, as your long position will (at that point) be a one-year bond.\n",
    "\n",
    "#### Alternatives\n",
    "The scheme above is for simplicity. You could try more interesting ways of setting the short position...\n",
    "* Open a new short position sized to whatever is needed to cover the expiring short position.\n",
    "* Set the short positions to duration-hedge the long position."
   ]
  },
  {
   "cell_type": "markdown",
   "id": "b18e4fdc",
   "metadata": {},
   "source": [
    "## 2.2\n",
    "\n",
    "How would this trade play out if the path of one-year spot rates equaled the forward rates observed in 2018?"
   ]
  },
  {
   "cell_type": "markdown",
   "id": "5e5211a6",
   "metadata": {},
   "source": [
    "## 2.3\n",
    "\n",
    "Given Fact 3 of the *dynamic* (conditional) tests of EH in notebook W.5., do you expect that as of Dec 2023 the long-short trade above looks more or less favorable for Dec 2023-2028 than it did for Dec 2018-2023?"
   ]
  },
  {
   "cell_type": "markdown",
   "id": "900736ae",
   "metadata": {},
   "source": [
    "***"
   ]
  }
 ],
 "metadata": {
  "hide_input": false,
  "kernelspec": {
   "display_name": "Python 3 (ipykernel)",
   "language": "python",
   "name": "python3"
  },
  "language_info": {
   "codemirror_mode": {
    "name": "ipython",
    "version": 3
   },
   "file_extension": ".py",
   "mimetype": "text/x-python",
   "name": "python",
   "nbconvert_exporter": "python",
   "pygments_lexer": "ipython3",
   "version": "3.9.6"
  }
 },
 "nbformat": 4,
 "nbformat_minor": 5
}
