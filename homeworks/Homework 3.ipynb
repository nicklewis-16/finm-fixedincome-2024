{
 "cells": [
  {
   "cell_type": "markdown",
   "id": "414d51a3",
   "metadata": {},
   "source": [
    "# Homework 3\n",
    "\n",
    "## FINM 37400 - 2024\n",
    "\n",
    "### UChicago Financial Mathematics\n",
    "\n",
    "* Mark Hendricks\n",
    "* hendricks@uchicago.edu"
   ]
  },
  {
   "cell_type": "markdown",
   "id": "eb69aa93",
   "metadata": {},
   "source": [
    "# 1 HBS Case: Fixed-Income Arbitrage in a Financial Crisis (C): Spread and Swap Spread in November 2008"
   ]
  },
  {
   "cell_type": "markdown",
   "id": "a619a549",
   "metadata": {},
   "source": [
    "## Simplification of the setup\n",
    "\n",
    "The date is Nov 4, 2008.\n",
    "\n",
    "**Treasury bond**\n",
    "* Suppose the Treasury bond matures exactly 30 years later, on Nov 4, 2038 rather than May 15, 2008. \n",
    "* The YTM of this freshly issued treasury is 4.193\\% with a semiannual coupon of 4.50\\%, same as is given in the case. (So we're just changing the maturity date to simplify things, but keeping the market data.)\n",
    "\n",
    "**Swap**\n",
    "* The fixed leg of the swap pays semiannually, with swap rate of 4.2560\\%, as given in the case.\n",
    "* The floating leg of the swap also pays semiannually--not quarterly--such that the payment dates are identical on both legs. Thus, it also resets the floating rate semiannually, not quarterly.\n",
    "* The floating rate of the swap equals the repo rate used in the trade. Thus, these two rates cancel in the financing of the trade. (No need to consider the TED spread.) "
   ]
  },
  {
   "cell_type": "markdown",
   "id": "320c79f2",
   "metadata": {},
   "source": [
    "## Case Clarifications\n",
    "\n",
    "\n",
    "### Duration Quotes\n",
    "Bond\n",
    "* Quote: Val01 of bond is .1746 per bp per \\\\$1 face value\n",
    "* Class terminology: Modified dollar duration is .1746 per \\\\$100 face value\n",
    "\n",
    "Swap\n",
    "* Quote: DV01 of swap is 1.7mm per 1 billion notional.\n",
    "* Class terminology: Modified dollar duration is 100(1.7/1000) per \\\\$100 face value.\n",
    "\n",
    "Thus, modified dollar duration for each per 100 face is\n",
    "* Bond = .1746\n",
    "* Swap = .1700\n",
    "\n",
    "### Hedge Ratio\n",
    "\n",
    "In figuring out the hedge ratio, they set up the hedge per dollar of face value. \n",
    "\n",
    "    *so Mills would need to buy face amount \\\\$0.97 billion**\n",
    "    \n",
    "    No, this hedge should be for market value, not face amount given that the case is already using **modified** duration which includes the dirty price.\n",
    "\n",
    "### Maturity Mismatch\n",
    "\n",
    "The maturity of the bond is August 2038, whereas the date is Nov 2008. Thus, the bond has less than 30 years to maturity, yet he is entering a 30-year swap. \n",
    "\n",
    "For simplicity, we imagine the bond is issued in Nov 2008 and thus has maturity of 30 years at the time of the case.\n",
    "\n",
    "However, then the case quotes for the Nov price and YTM of the bond no longer are accurate. Use one and adjust the other. Namely, we could...\n",
    "    * use the Nov 4 **YTM** quoted in the case, and re-adjust the the bond.\n",
    "    * use the Nov 4 **price** quoted in the case, and re-adjust the YTM.\n",
    "    \n",
    "We do the former, keep the quoted YTM, assume time-to-maturity of `30`, and recalculate the Nov 2008 price. (It is close to the quoted price in the case.)"
   ]
  },
  {
   "cell_type": "markdown",
   "id": "4861f381",
   "metadata": {},
   "source": [
    "***"
   ]
  },
  {
   "cell_type": "markdown",
   "id": "d74740c1",
   "metadata": {},
   "source": [
    "## 1.0.\n",
    "\n",
    "Report the price of the 30-year T-bond in Nov 2008. Given the discussion about `Maturity Mismatch`, we are repricing the bond, so it will not exactly equal `105` as reported in the case."
   ]
  },
  {
   "cell_type": "markdown",
   "id": "affe624a",
   "metadata": {},
   "source": [
    "## 1.1\n",
    "\n",
    "List the projected cashflows on May 4, 2009, exactly six months into the trade, on the first coupon and swap date."
   ]
  },
  {
   "cell_type": "markdown",
   "id": "491cd113",
   "metadata": {},
   "source": [
    "## 1.2\n",
    "\n",
    "What is the duration of...\n",
    "* the T-bond\n",
    "* the swap\n",
    "\n",
    "Remember that...\n",
    "* the swap can be decomposed into a fixed-rate bond and a floating-rate note\n",
    "* a floating-rate note has duration equal to the time until the next reset. Thus, at initialization, it has duration equal to 0.5 years.\n",
    "\n",
    "Is the duration for the \"paying-fixed\" swap positive or negative? Is it bigger or smaller in magnitude than the T-bond?\n",
    "\n",
    "For this problem, calculate the Macauley duration and the dollar (Macauley) duration."
   ]
  },
  {
   "cell_type": "markdown",
   "id": "1b65c784",
   "metadata": {},
   "source": [
    "## 1.3\n",
    "\n",
    "What hedge ratio should be used to balance the notional size of the Treasury bond with the notional size of the swap, such that it is a duration-neutral position?\n",
    "\n",
    "Specifically, if the trader enters the swap paying fixed on \\$500 million notional, how large of a position should they take in the Treasury bond?"
   ]
  },
  {
   "cell_type": "markdown",
   "id": "d6169a1e",
   "metadata": {},
   "source": [
    "## 1.4\n",
    "\n",
    "Suppose it is May 4, 2009, exactly six months after putting the trade on.\n",
    "\n",
    "The spread is at -28 bps due to...\n",
    "* The YTM on a new 30-year bond has risen to 4.36\\%\n",
    "* The swap rate on a new 30-year swap has dropped to 4.08\\%\n",
    "\n",
    "Explain conceptually how this movement impacts the components of the trade."
   ]
  },
  {
   "cell_type": "markdown",
   "id": "f4ee2d28",
   "metadata": {},
   "source": [
    "## 1.5\n",
    "\n",
    "Calculate the value of the position on May 4, 2009, immediately after the first coupon and swap payments and swap reset. \n",
    "\n",
    "* Calculate the revised price of the Treasury bond by assuming you can apply the (May 4) 30-year YTM as a discount rate to the 29.5 year bond. (We are just using this for a rough approximation. You know that good pricing would require a discount curve, but let's not get bogged down with that here.)\n",
    "\n",
    "\n",
    "* Calculate the value of the swap by decomposing it into a fixed-rate bond and a floating-rate bond.\n",
    "    * The 29.5 year fixed-rate leg is priced using the (May 4) 30-year swap rate as a discount rate.\n",
    "    * The floating-rate leg is priced at par given that floating-rate notes are par immediately after resets.\n",
    "    \n",
    "**Note**\n",
    "\n",
    "You are being asked to calculate these valuations using the exact formula between price, cashflows, and YTM discount rate. We are not simply approximating with duration, as we already know the position was set up with zero dollar duration.\n",
    "\n",
    "From the Discussion 1 notebook, we have this formula expressing a bond's price as a function of the coupon, $c$, and the YTM, $y_j$.\n",
    "\n",
    "$\\begin{align*}\n",
    "P_j(t,T,c) = \\sum_{i=1}^{n-1}\\frac{100\\left(\\frac{c}{2}\\right)}{\\left(1+\\frac{y_j}{2}\\right)^{2(T_i-t)}} + \\frac{100\\left(1+\\frac{c}{2}\\right)}{\\left(1+\\frac{y_j}{2}\\right)^{2(T-t)}}\n",
    "\\end{align*}\n",
    "$"
   ]
  },
  {
   "cell_type": "markdown",
   "id": "f1bfb4e1",
   "metadata": {},
   "source": [
    "## 1.6\n",
    "\n",
    "Accounting for the change in value of the positions, as well as the 6-month cashflows paid on May 4, \n",
    "* what is the net profit and loss (pnl) of the position?\n",
    "* what is the return on the equity capital, considering that there was a 2\\% haircut (equity contribution) on the size of the initial treasury bond position."
   ]
  },
  {
   "cell_type": "markdown",
   "id": "091b2092",
   "metadata": {},
   "source": [
    "***"
   ]
  }
 ],
 "metadata": {
  "hide_input": false,
  "kernelspec": {
   "display_name": "Python 3 (ipykernel)",
   "language": "python",
   "name": "python3"
  },
  "language_info": {
   "codemirror_mode": {
    "name": "ipython",
    "version": 3
   },
   "file_extension": ".py",
   "mimetype": "text/x-python",
   "name": "python",
   "nbconvert_exporter": "python",
   "pygments_lexer": "ipython3",
   "version": "3.9.6"
  }
 },
 "nbformat": 4,
 "nbformat_minor": 5
}
