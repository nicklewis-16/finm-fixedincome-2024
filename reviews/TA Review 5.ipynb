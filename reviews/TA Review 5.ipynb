{
 "cells": [
  {
   "cell_type": "markdown",
   "metadata": {},
   "source": [
    "# TA Review - Feb 5th, 2024\n",
    "\n",
    "**Younghun Lee**\n",
    "\n",
    "---"
   ]
  },
  {
   "cell_type": "markdown",
   "metadata": {},
   "source": [
    "# Homework 5"
   ]
  },
  {
   "cell_type": "code",
   "execution_count": 124,
   "metadata": {},
   "outputs": [],
   "source": [
    "import pandas as pd\n",
    "import numpy as np\n",
    "import datetime\n",
    "import warnings\n",
    "\n",
    "import matplotlib.pyplot as plt\n",
    "%matplotlib inline\n",
    "from matplotlib.ticker import (MultipleLocator,\n",
    "                               FormatStrFormatter,\n",
    "                               AutoMinorLocator)\n",
    "import sys\n",
    "sys.path.insert(0, '../cmds')\n",
    "from treasury_cmds import *"
   ]
  },
  {
   "cell_type": "markdown",
   "metadata": {},
   "source": [
    "# 1. Forward Rates"
   ]
  },
  {
   "cell_type": "markdown",
   "metadata": {},
   "source": [
    "Use the data set `famabliss_strips_2023-12-29.xlsx`.\n",
    "\n",
    "It gives prices on **zero coupon bonds** with maturities of 1 through 5 years.\n",
    "* These are prices per \\$1 face value on bonds that only pay principal.\n",
    "* Such bonds can be created from treasuries by *stripping* out their coupons.\n",
    "* In essence, you can consider these prices as the discount factors $Z$, for maturity intervals 1 through 5 years.\n",
    "\n",
    "In this problem, we focus on six dates: the month of December in 2018 through 2023."
   ]
  },
  {
   "cell_type": "code",
   "execution_count": 2,
   "metadata": {},
   "outputs": [],
   "source": [
    "filepath = '../data/famabliss_strips_2023-12-29.xlsx'\n",
    "prices = pd.read_excel(filepath, sheet_name='prices')\n",
    "prices.set_index('date',inplace=True)\n",
    "prices.columns = prices.columns.astype(int)\n",
    "prices /= 100"
   ]
  },
  {
   "cell_type": "markdown",
   "metadata": {},
   "source": [
    "Define the **forward discount factor** as\n",
    "\n",
    "$\\begin{align}\n",
    "F(t,T_1,T_2) = \\frac{Z(t,T_2)}{Z(t,T_1)}\n",
    "\\end{align}$\n",
    "\n",
    "Given this definition, answer the following:\n",
    "- For $T_2=T_1$, what is $F(t,T_1,T_2) = 1$\n",
    "- Is $F(t,T_1,T_2)$ increasing or decreasing in $T_2$? Increasing\n",
    "- What is $F(t,t,T)$? $= Z(t, T)$\n",
    "\n",
    "**Q:** For each of the six dates, (Dec 2018, Dec 2019, ...), calculate the forward discount factor, $F(t,T_1,T_2)$, where $T_2 = T_1 + 1$ for $1\\le T_1\\le 4$. Make a plot of the curve $F$ at each of these six dates.\n",
    "\n",
    "Since the given prices are zero coupon bonds on \\$1 face value,\n",
    "$$Price(T_1) = 1 * Z(t, T_1)$$\n",
    "\n",
    "Thus, \n",
    "$$F(t, T_1, T_2) = \\frac{Price(T_2)}{Price(T_1)}$$"
   ]
  },
  {
   "cell_type": "code",
   "execution_count": 18,
   "metadata": {},
   "outputs": [
    {
     "data": {
      "text/html": [
       "<div>\n",
       "<style scoped>\n",
       "    .dataframe tbody tr th:only-of-type {\n",
       "        vertical-align: middle;\n",
       "    }\n",
       "\n",
       "    .dataframe tbody tr th {\n",
       "        vertical-align: top;\n",
       "    }\n",
       "\n",
       "    .dataframe thead th {\n",
       "        text-align: right;\n",
       "    }\n",
       "</style>\n",
       "<table border=\"1\" class=\"dataframe\">\n",
       "  <thead>\n",
       "    <tr style=\"text-align: right;\">\n",
       "      <th></th>\n",
       "      <th>2</th>\n",
       "      <th>3</th>\n",
       "      <th>4</th>\n",
       "      <th>5</th>\n",
       "    </tr>\n",
       "    <tr>\n",
       "      <th>date</th>\n",
       "      <th></th>\n",
       "      <th></th>\n",
       "      <th></th>\n",
       "      <th></th>\n",
       "    </tr>\n",
       "  </thead>\n",
       "  <tbody>\n",
       "    <tr>\n",
       "      <th>2018</th>\n",
       "      <td>0.977060</td>\n",
       "      <td>0.976226</td>\n",
       "      <td>0.974684</td>\n",
       "      <td>0.974351</td>\n",
       "    </tr>\n",
       "    <tr>\n",
       "      <th>2019</th>\n",
       "      <td>0.984299</td>\n",
       "      <td>0.983514</td>\n",
       "      <td>0.981894</td>\n",
       "      <td>0.982046</td>\n",
       "    </tr>\n",
       "    <tr>\n",
       "      <th>2020</th>\n",
       "      <td>0.998560</td>\n",
       "      <td>0.997773</td>\n",
       "      <td>0.994129</td>\n",
       "      <td>0.991997</td>\n",
       "    </tr>\n",
       "    <tr>\n",
       "      <th>2021</th>\n",
       "      <td>0.989286</td>\n",
       "      <td>0.985541</td>\n",
       "      <td>0.983136</td>\n",
       "      <td>0.983031</td>\n",
       "    </tr>\n",
       "    <tr>\n",
       "      <th>2022</th>\n",
       "      <td>0.959768</td>\n",
       "      <td>0.964111</td>\n",
       "      <td>0.963434</td>\n",
       "      <td>0.963870</td>\n",
       "    </tr>\n",
       "    <tr>\n",
       "      <th>2023</th>\n",
       "      <td>0.964203</td>\n",
       "      <td>0.966159</td>\n",
       "      <td>0.964153</td>\n",
       "      <td>0.965059</td>\n",
       "    </tr>\n",
       "  </tbody>\n",
       "</table>\n",
       "</div>"
      ],
      "text/plain": [
       "             2         3         4         5\n",
       "date                                        \n",
       "2018  0.977060  0.976226  0.974684  0.974351\n",
       "2019  0.984299  0.983514  0.981894  0.982046\n",
       "2020  0.998560  0.997773  0.994129  0.991997\n",
       "2021  0.989286  0.985541  0.983136  0.983031\n",
       "2022  0.959768  0.964111  0.963434  0.963870\n",
       "2023  0.964203  0.966159  0.964153  0.965059"
      ]
     },
     "execution_count": 18,
     "metadata": {},
     "output_type": "execute_result"
    }
   ],
   "source": [
    "px = prices.loc['2018-12-01'::12]\n",
    "px.index = px.index.year\n",
    "F = px[[2,3,4,5]] / px[[1,2,3,4]].values\n",
    "F"
   ]
  },
  {
   "cell_type": "markdown",
   "metadata": {},
   "source": [
    "The forward rates is moving over in the interim."
   ]
  },
  {
   "cell_type": "code",
   "execution_count": 19,
   "metadata": {},
   "outputs": [
    {
     "data": {
      "text/plain": [
       "<Axes: >"
      ]
     },
     "execution_count": 19,
     "metadata": {},
     "output_type": "execute_result"
    },
    {
     "data": {
      "image/png": "[encoded data removed]",
      "text/plain": [
       "<Figure size 800x400 with 1 Axes>"
      ]
     },
     "metadata": {},
     "output_type": "display_data"
    }
   ],
   "source": [
    "F.T.plot(figsize = (8, 4), cmap = 'viridis')"
   ]
  },
  {
   "cell_type": "markdown",
   "metadata": {},
   "source": [
    "Assuming continous compounding, the forward discount factor is formulated as\n",
    "\n",
    "$$F(t,T_1,T_2) = e^{-f(t,T_1,T_2)(T_2-T_1)}$$\n",
    "\n",
    "In other words, the **forward discount rate** is given as\n",
    "\n",
    "$$f = -\\frac{1}{\\tau} \\ln F(t, T_1, T_2),\\quad \\text{where}\\quad \\tau = T_2 - T_1$$\n",
    "\n",
    "\n",
    "**Q:** Use $F$ above to calculate the continuously compounded forward rates, $f$, at the six dates.\n",
    "\n",
    "Make a plot of the curve, $f$, at each of these six dates.\n",
    "\n"
   ]
  },
  {
   "cell_type": "code",
   "execution_count": 30,
   "metadata": {},
   "outputs": [
    {
     "data": {
      "text/html": [
       "<div>\n",
       "<style scoped>\n",
       "    .dataframe tbody tr th:only-of-type {\n",
       "        vertical-align: middle;\n",
       "    }\n",
       "\n",
       "    .dataframe tbody tr th {\n",
       "        vertical-align: top;\n",
       "    }\n",
       "\n",
       "    .dataframe thead th {\n",
       "        text-align: right;\n",
       "    }\n",
       "</style>\n",
       "<table border=\"1\" class=\"dataframe\">\n",
       "  <thead>\n",
       "    <tr style=\"text-align: right;\">\n",
       "      <th></th>\n",
       "      <th>1</th>\n",
       "      <th>2</th>\n",
       "      <th>3</th>\n",
       "      <th>4</th>\n",
       "      <th>5</th>\n",
       "    </tr>\n",
       "    <tr>\n",
       "      <th>date</th>\n",
       "      <th></th>\n",
       "      <th></th>\n",
       "      <th></th>\n",
       "      <th></th>\n",
       "      <th></th>\n",
       "    </tr>\n",
       "  </thead>\n",
       "  <tbody>\n",
       "    <tr>\n",
       "      <th>2018</th>\n",
       "      <td>0.026026</td>\n",
       "      <td>0.023207</td>\n",
       "      <td>0.024061</td>\n",
       "      <td>0.025642</td>\n",
       "      <td>0.025984</td>\n",
       "    </tr>\n",
       "    <tr>\n",
       "      <th>2019</th>\n",
       "      <td>0.015729</td>\n",
       "      <td>0.015825</td>\n",
       "      <td>0.016624</td>\n",
       "      <td>0.018272</td>\n",
       "      <td>0.018117</td>\n",
       "    </tr>\n",
       "    <tr>\n",
       "      <th>2020</th>\n",
       "      <td>0.001042</td>\n",
       "      <td>0.001441</td>\n",
       "      <td>0.002229</td>\n",
       "      <td>0.005889</td>\n",
       "      <td>0.008035</td>\n",
       "    </tr>\n",
       "    <tr>\n",
       "      <th>2021</th>\n",
       "      <td>0.003834</td>\n",
       "      <td>0.010772</td>\n",
       "      <td>0.014564</td>\n",
       "      <td>0.017008</td>\n",
       "      <td>0.017115</td>\n",
       "    </tr>\n",
       "    <tr>\n",
       "      <th>2022</th>\n",
       "      <td>0.046425</td>\n",
       "      <td>0.041064</td>\n",
       "      <td>0.036548</td>\n",
       "      <td>0.037252</td>\n",
       "      <td>0.036799</td>\n",
       "    </tr>\n",
       "    <tr>\n",
       "      <th>2023</th>\n",
       "      <td>0.047314</td>\n",
       "      <td>0.036454</td>\n",
       "      <td>0.034427</td>\n",
       "      <td>0.036505</td>\n",
       "      <td>0.035566</td>\n",
       "    </tr>\n",
       "  </tbody>\n",
       "</table>\n",
       "</div>"
      ],
      "text/plain": [
       "             1         2         3         4         5\n",
       "date                                                  \n",
       "2018  0.026026  0.023207  0.024061  0.025642  0.025984\n",
       "2019  0.015729  0.015825  0.016624  0.018272  0.018117\n",
       "2020  0.001042  0.001441  0.002229  0.005889  0.008035\n",
       "2021  0.003834  0.010772  0.014564  0.017008  0.017115\n",
       "2022  0.046425  0.041064  0.036548  0.037252  0.036799\n",
       "2023  0.047314  0.036454  0.034427  0.036505  0.035566"
      ]
     },
     "execution_count": 30,
     "metadata": {},
     "output_type": "execute_result"
    }
   ],
   "source": [
    "f = -np.log(F)\n",
    "spots = -np.log(px)/px.columns\n",
    "f.insert(0,1,spots[1])\n",
    "f"
   ]
  },
  {
   "cell_type": "code",
   "execution_count": 21,
   "metadata": {},
   "outputs": [
    {
     "data": {
      "text/plain": [
       "<Axes: >"
      ]
     },
     "execution_count": 21,
     "metadata": {},
     "output_type": "execute_result"
    },
    {
     "data": {
      "image/png": "[encoded data removed]",
      "text/plain": [
       "<Figure size 800x400 with 1 Axes>"
      ]
     },
     "metadata": {},
     "output_type": "display_data"
    }
   ],
   "source": [
    "f.T.plot(xticks=f.columns, cmap = 'viridis', figsize = (8, 4))"
   ]
  },
  {
   "cell_type": "markdown",
   "metadata": {},
   "source": [
    "Calculating spot rates from zero coupon bonds:\n",
    "\n",
    "$$Price(T) = Z(t,T) = e^{-r(t,T)T}$$\n",
    "As such, \n",
    "$$r(t,T) = -\\frac{1}{T}\\ln Z(t,T) = -\\frac{\\ln Price(T)}{T}$$\n",
    "\n",
    "\n",
    "**Q:** Calculate the continuously compounded spot rates, $r$, at the six dates.\n",
    "\n",
    "Plot both the forward curve and the spot curve on the date of Dec 2018.\n",
    "\n",
    "Recall that $f(t,t,t+1) = r(t,t+1)$."
   ]
  },
  {
   "cell_type": "code",
   "execution_count": 22,
   "metadata": {},
   "outputs": [
    {
     "data": {
      "image/png": "[encoded data removed]",
      "text/plain": [
       "<Figure size 800x400 with 1 Axes>"
      ]
     },
     "metadata": {},
     "output_type": "display_data"
    }
   ],
   "source": [
    "spots.T.plot(xticks=spots.columns, cmap = 'viridis', figsize = (8, 4));"
   ]
  },
  {
   "cell_type": "markdown",
   "metadata": {},
   "source": [
    "\n",
    "\n",
    "Forward rate and Spot rate: **Converting to the Spot Rate**\n",
    "$\\begin{align}\n",
    "r(0,T_n) = \\frac{1}{T_n}\\sum_{i=1}^nf(0,T_{i-1},T_i)\\Delta\n",
    "\\end{align}$\n",
    "\n",
    "where \n",
    "* $T_0=0$, \n",
    "* $f(0,0,T_1) = r(0,T_1)$.\n"
   ]
  },
  {
   "cell_type": "markdown",
   "metadata": {},
   "source": [
    "As the spot rate is the average of the forward rates, the spot curve is upward sloping if the forward curve is higher than the spot rate, and vice versa. They cross at the minimum of the spot rate."
   ]
  },
  {
   "cell_type": "code",
   "execution_count": 26,
   "metadata": {},
   "outputs": [
    {
     "data": {
      "image/png": "[encoded data removed]",
      "text/plain": [
       "<Figure size 800x400 with 1 Axes>"
      ]
     },
     "metadata": {},
     "output_type": "display_data"
    }
   ],
   "source": [
    "DATE = 2018\n",
    "ax = f.loc[DATE].T.plot(xticks=f.columns, cmap = 'viridis', figsize = (8, 4))\n",
    "spots.loc[DATE].T.plot(ax=ax)\n",
    "ax.legend(['forward','spot']);"
   ]
  },
  {
   "cell_type": "markdown",
   "metadata": {},
   "source": [
    "The **forward curve** holds constant $t$ and the interval $\\Delta = T_2-T_1$ while varying $T_1$. \n",
    "\n",
    "$\\begin{align}\n",
    "f(t,T_1,T_1+\\Delta)\n",
    "\\end{align}$\n",
    "\n",
    "when holding the interval between $T_1$ and $T_2$ constant at $\\Delta$, it is common to denote $T$ instead of $T_1$:\n",
    "\n",
    "$\\begin{align}\n",
    "f(t,T,T+\\Delta)\n",
    "\\end{align}$\n",
    "\n",
    "**Q:** Plot the forward curve on Dec 2018 against the time-series evolution of $r(t,t+1)$ for dates $t$ between Dec 2018 and Dec 2022.\n",
    "\n",
    "How does the evolution of one-year rates between 2018-2022 compare to the forward rates of 2018?"
   ]
  },
  {
   "cell_type": "code",
   "execution_count": 38,
   "metadata": {},
   "outputs": [
    {
     "data": {
      "text/html": [
       "<div>\n",
       "<style scoped>\n",
       "    .dataframe tbody tr th:only-of-type {\n",
       "        vertical-align: middle;\n",
       "    }\n",
       "\n",
       "    .dataframe tbody tr th {\n",
       "        vertical-align: top;\n",
       "    }\n",
       "\n",
       "    .dataframe thead th {\n",
       "        text-align: right;\n",
       "    }\n",
       "</style>\n",
       "<table border=\"1\" class=\"dataframe\">\n",
       "  <thead>\n",
       "    <tr style=\"text-align: right;\">\n",
       "      <th></th>\n",
       "      <th>forward curve</th>\n",
       "      <th>spot over time</th>\n",
       "    </tr>\n",
       "    <tr>\n",
       "      <th>2018: (n-1) to n</th>\n",
       "      <th></th>\n",
       "      <th></th>\n",
       "    </tr>\n",
       "  </thead>\n",
       "  <tbody>\n",
       "    <tr>\n",
       "      <th>1</th>\n",
       "      <td>0.026026</td>\n",
       "      <td>0.026026</td>\n",
       "    </tr>\n",
       "    <tr>\n",
       "      <th>2</th>\n",
       "      <td>0.023207</td>\n",
       "      <td>0.015729</td>\n",
       "    </tr>\n",
       "    <tr>\n",
       "      <th>3</th>\n",
       "      <td>0.024061</td>\n",
       "      <td>0.001042</td>\n",
       "    </tr>\n",
       "    <tr>\n",
       "      <th>4</th>\n",
       "      <td>0.025642</td>\n",
       "      <td>0.003834</td>\n",
       "    </tr>\n",
       "    <tr>\n",
       "      <th>5</th>\n",
       "      <td>0.025984</td>\n",
       "      <td>0.046425</td>\n",
       "    </tr>\n",
       "  </tbody>\n",
       "</table>\n",
       "</div>"
      ],
      "text/plain": [
       "                  forward curve  spot over time\n",
       "2018: (n-1) to n                               \n",
       "1                      0.026026        0.026026\n",
       "2                      0.023207        0.015729\n",
       "3                      0.024061        0.001042\n",
       "4                      0.025642        0.003834\n",
       "5                      0.025984        0.046425"
      ]
     },
     "execution_count": 38,
     "metadata": {},
     "output_type": "execute_result"
    }
   ],
   "source": [
    "temp = f.loc[[DATE]].T\n",
    "\n",
    "temp.columns.name = f'{DATE}: (n-1) to n'\n",
    "temp.columns = [f'forward curve']\n",
    "if DATE == 2018:\n",
    "    temp['spot over time'] = spots[1].values[:-1]\n",
    "elif DATE == 2019:\n",
    "    temp['spot over time'] = spots[1].values[1:]\n",
    "\n",
    "temp"
   ]
  },
  {
   "cell_type": "code",
   "execution_count": 39,
   "metadata": {},
   "outputs": [
    {
     "data": {
      "image/png": "[encoded data removed]",
      "text/plain": [
       "<Figure size 640x480 with 1 Axes>"
      ]
     },
     "metadata": {},
     "output_type": "display_data"
    }
   ],
   "source": [
    "ax = temp.plot(xticks=temp.index)"
   ]
  },
  {
   "cell_type": "markdown",
   "metadata": {},
   "source": [
    "***"
   ]
  },
  {
   "cell_type": "markdown",
   "metadata": {},
   "source": [
    "# 2. Carry Trade"
   ]
  },
  {
   "cell_type": "markdown",
   "metadata": {},
   "source": [
    "Suppose it is December 2018, and you determine to implement a carry trade with the following specification...\n",
    "\n",
    "* Long \\$100 million (market value, not face value) of the 5-year zero-coupon bond (maturing Dec 2023.)\n",
    "* Short \\$100 million (market value, not face value) of the 1-year zero-coupon bond (maturing Dec 2019.)\n",
    "* Assume there is a 2% haircut on each side of the trade, so it requires \\$4 million of investor capital to initiate it."
   ]
  },
  {
   "cell_type": "code",
   "execution_count": 53,
   "metadata": {},
   "outputs": [],
   "source": [
    "HAIRCUT = .02\n",
    "INIT_SIZE = 1e8\n",
    "FACE = 1e6 # Arbitray setup to scale the position e.g.) long position = 100 million / 1 million = 100\n",
    "\n",
    "DATE = 2018\n",
    "DATE1 = 2019"
   ]
  },
  {
   "cell_type": "markdown",
   "metadata": {},
   "source": [
    "#### Setups:\n",
    "- **Timing**: We continue to examine just the six dates above.\n",
    "- **Bonds and cash**: Add a column for the `cash` position, to account for the one-year bill maturing and needing to be rolled over.\n",
    "- **Face Value**: There is no mention of how large the face value is on each bond. Obviously this choice will not do anything more than scale the number of contracts in the trade. Below, we proceed with a face value of \\\\$1 million. This will simply scale the `positions` and `p` dataframes."
   ]
  },
  {
   "cell_type": "code",
   "execution_count": 58,
   "metadata": {},
   "outputs": [
    {
     "data": {
      "text/html": [
       "<div>\n",
       "<style scoped>\n",
       "    .dataframe tbody tr th:only-of-type {\n",
       "        vertical-align: middle;\n",
       "    }\n",
       "\n",
       "    .dataframe tbody tr th {\n",
       "        vertical-align: top;\n",
       "    }\n",
       "\n",
       "    .dataframe thead th {\n",
       "        text-align: right;\n",
       "    }\n",
       "</style>\n",
       "<table border=\"1\" class=\"dataframe\">\n",
       "  <thead>\n",
       "    <tr style=\"text-align: right;\">\n",
       "      <th></th>\n",
       "      <th>cash</th>\n",
       "      <th>1</th>\n",
       "      <th>2</th>\n",
       "      <th>3</th>\n",
       "      <th>4</th>\n",
       "      <th>5</th>\n",
       "    </tr>\n",
       "    <tr>\n",
       "      <th>date</th>\n",
       "      <th></th>\n",
       "      <th></th>\n",
       "      <th></th>\n",
       "      <th></th>\n",
       "      <th></th>\n",
       "      <th></th>\n",
       "    </tr>\n",
       "  </thead>\n",
       "  <tbody>\n",
       "    <tr>\n",
       "      <th>2018</th>\n",
       "      <td>1000000.0</td>\n",
       "      <td>974309.532895</td>\n",
       "      <td>951959.168312</td>\n",
       "      <td>929327.251835</td>\n",
       "      <td>905800.507233</td>\n",
       "      <td>882567.551515</td>\n",
       "    </tr>\n",
       "    <tr>\n",
       "      <th>2019</th>\n",
       "      <td>1000000.0</td>\n",
       "      <td>984394.165182</td>\n",
       "      <td>968938.376101</td>\n",
       "      <td>952964.065833</td>\n",
       "      <td>935709.725930</td>\n",
       "      <td>918909.719373</td>\n",
       "    </tr>\n",
       "    <tr>\n",
       "      <th>2020</th>\n",
       "      <td>1000000.0</td>\n",
       "      <td>998958.637189</td>\n",
       "      <td>997519.894624</td>\n",
       "      <td>995298.575603</td>\n",
       "      <td>989454.755492</td>\n",
       "      <td>981536.529984</td>\n",
       "    </tr>\n",
       "    <tr>\n",
       "      <th>2021</th>\n",
       "      <td>1000000.0</td>\n",
       "      <td>996173.216548</td>\n",
       "      <td>985500.005990</td>\n",
       "      <td>971250.818410</td>\n",
       "      <td>954871.942575</td>\n",
       "      <td>938668.393461</td>\n",
       "    </tr>\n",
       "    <tr>\n",
       "      <th>2022</th>\n",
       "      <td>1000000.0</td>\n",
       "      <td>954636.124237</td>\n",
       "      <td>916228.997278</td>\n",
       "      <td>883346.761620</td>\n",
       "      <td>851045.910343</td>\n",
       "      <td>820297.854308</td>\n",
       "    </tr>\n",
       "    <tr>\n",
       "      <th>2023</th>\n",
       "      <td>1000000.0</td>\n",
       "      <td>953787.493113</td>\n",
       "      <td>919644.487972</td>\n",
       "      <td>888522.946446</td>\n",
       "      <td>856672.286172</td>\n",
       "      <td>826739.628824</td>\n",
       "    </tr>\n",
       "  </tbody>\n",
       "</table>\n",
       "</div>"
      ],
      "text/plain": [
       "           cash              1              2              3              4  \\\n",
       "date                                                                          \n",
       "2018  1000000.0  974309.532895  951959.168312  929327.251835  905800.507233   \n",
       "2019  1000000.0  984394.165182  968938.376101  952964.065833  935709.725930   \n",
       "2020  1000000.0  998958.637189  997519.894624  995298.575603  989454.755492   \n",
       "2021  1000000.0  996173.216548  985500.005990  971250.818410  954871.942575   \n",
       "2022  1000000.0  954636.124237  916228.997278  883346.761620  851045.910343   \n",
       "2023  1000000.0  953787.493113  919644.487972  888522.946446  856672.286172   \n",
       "\n",
       "                  5  \n",
       "date                 \n",
       "2018  882567.551515  \n",
       "2019  918909.719373  \n",
       "2020  981536.529984  \n",
       "2021  938668.393461  \n",
       "2022  820297.854308  \n",
       "2023  826739.628824  "
      ]
     },
     "execution_count": 58,
     "metadata": {},
     "output_type": "execute_result"
    }
   ],
   "source": [
    "p = px.copy()\n",
    "p.insert(0,'cash',1)\n",
    "p *= FACE\n",
    "p"
   ]
  },
  {
   "cell_type": "markdown",
   "metadata": {},
   "source": [
    "\n",
    "#### Short position\n",
    "* Each year you will roll over the short position to maintain a short \\$100 million (market value) in the 1-year bond.\n",
    "* This will require injecting more cash into the trade, as the expiring short will require more than \\$100 million to close out. \n",
    "* In Dec 2022, no need to open a new short position, as your long position will (at that point) be a one-year bond.\n",
    "\n",
    "#### Alternatives\n",
    "The scheme above is for simplicity. You could try more interesting ways of setting the short position...\n",
    "* Open a new short position sized to whatever is needed to cover the expiring short position.\n",
    "* Set the short positions to duration-hedge the long position."
   ]
  },
  {
   "cell_type": "markdown",
   "metadata": {},
   "source": [
    "**Q:** Calculate the total profit and loss year-by-year.\n"
   ]
  },
  {
   "cell_type": "markdown",
   "metadata": {},
   "source": [
    "- **Aging**: Recall that a 5-year bond becomes a 4 year bond, etc.\n",
    "- **Rollover**: At each year, you must close the old short position and enter a new short position on the one-year note. "
   ]
  },
  {
   "cell_type": "code",
   "execution_count": 72,
   "metadata": {},
   "outputs": [],
   "source": [
    "value = pd.DataFrame(dtype=float, columns=p.columns, index=p.index)\n",
    "pnl = pd.DataFrame(dtype=float, columns=p.columns, index=p.index)\n",
    "\n",
    "pnl.loc[DATE] = 0\n",
    "# First column is cash. Second column indicates the short position in the first 1-year bond.\n",
    "# INIT_SIZE at the last column indicate the long position in the 5-year bond.\n",
    "value.loc[DATE] = np.array([0,-INIT_SIZE,0,0,0,INIT_SIZE])\n",
    "positions = value / p # calculates amount of bonds to buy/sell\n",
    "\n",
    "dt_end = p.index[-1]\n",
    "\n",
    "for i, dt in enumerate(p.index[1:]):\n",
    "    # `i` will have lagged index on dt as `enumerate` starts \n",
    "    # from 0 while we are looping index on p from 1\n",
    "    dt_lag = p.index[i]\n",
    "\n",
    "    # Brings previous year's positions and shift it one year forward to reflect the passage of time\n",
    "        # be careful that position.loc[dt_lag] is pd.Series, so shifting it will shift the value column-wise\n",
    "    # first column (cash) will indicate the cash required to exit the previous 1-year bond position\n",
    "    positions.loc[dt] = positions.loc[dt_lag].shift(-1) \n",
    "    # renew the position on 5-year bond as it became 4-year bond, and so on\n",
    "    positions.loc[dt,5] = 0\n",
    "    # display(positions)\n",
    "    \n",
    "    # roll over the short position\n",
    "    if dt != dt_end:\n",
    "        # enter into new short position\n",
    "        positions.loc[dt,1] += -INIT_SIZE / p.loc[dt,1]\n",
    "        # receive the cash for the short position\n",
    "        positions.loc[dt,'cash'] += INIT_SIZE / p.loc[dt,'cash']\n",
    "\n",
    "    # value of the new portfolio is the product of positions and prices\n",
    "    value.loc[dt] = positions.loc[dt] * p.loc[dt]\n",
    "    \n",
    "    # pnl change for each bond\n",
    "    pnl.loc[dt] = value.loc[dt] - value.loc[dt_lag]\n",
    "    # cash required to close out the maturing short position\n",
    "    pnl.loc[dt,'cash'] = value.loc[dt,'cash']\n",
    "    \n",
    "pnl.insert(0,'net',pnl.sum(axis=1))\n",
    "pnl.loc['cumulative','net'] = pnl['net'].sum()"
   ]
  },
  {
   "cell_type": "code",
   "execution_count": 57,
   "metadata": {},
   "outputs": [
    {
     "data": {
      "text/html": [
       "<style type=\"text/css\">\n",
       "</style>\n",
       "<table id=\"T_42c89\">\n",
       "  <thead>\n",
       "    <tr>\n",
       "      <th class=\"blank level0\" >&nbsp;</th>\n",
       "      <th id=\"T_42c89_level0_col0\" class=\"col_heading level0 col0\" >cash</th>\n",
       "      <th id=\"T_42c89_level0_col1\" class=\"col_heading level0 col1\" >1</th>\n",
       "      <th id=\"T_42c89_level0_col2\" class=\"col_heading level0 col2\" >2</th>\n",
       "      <th id=\"T_42c89_level0_col3\" class=\"col_heading level0 col3\" >3</th>\n",
       "      <th id=\"T_42c89_level0_col4\" class=\"col_heading level0 col4\" >4</th>\n",
       "      <th id=\"T_42c89_level0_col5\" class=\"col_heading level0 col5\" >5</th>\n",
       "    </tr>\n",
       "    <tr>\n",
       "      <th class=\"index_name level0\" >date</th>\n",
       "      <th class=\"blank col0\" >&nbsp;</th>\n",
       "      <th class=\"blank col1\" >&nbsp;</th>\n",
       "      <th class=\"blank col2\" >&nbsp;</th>\n",
       "      <th class=\"blank col3\" >&nbsp;</th>\n",
       "      <th class=\"blank col4\" >&nbsp;</th>\n",
       "      <th class=\"blank col5\" >&nbsp;</th>\n",
       "    </tr>\n",
       "  </thead>\n",
       "  <tbody>\n",
       "    <tr>\n",
       "      <th id=\"T_42c89_level0_row0\" class=\"row_heading level0 row0\" >2018</th>\n",
       "      <td id=\"T_42c89_row0_col0\" class=\"data row0 col0\" ></td>\n",
       "      <td id=\"T_42c89_row0_col1\" class=\"data row0 col1\" >-102.64</td>\n",
       "      <td id=\"T_42c89_row0_col2\" class=\"data row0 col2\" ></td>\n",
       "      <td id=\"T_42c89_row0_col3\" class=\"data row0 col3\" ></td>\n",
       "      <td id=\"T_42c89_row0_col4\" class=\"data row0 col4\" ></td>\n",
       "      <td id=\"T_42c89_row0_col5\" class=\"data row0 col5\" >113.31</td>\n",
       "    </tr>\n",
       "    <tr>\n",
       "      <th id=\"T_42c89_level0_row1\" class=\"row_heading level0 row1\" >2019</th>\n",
       "      <td id=\"T_42c89_row1_col0\" class=\"data row1 col0\" >-2.6368</td>\n",
       "      <td id=\"T_42c89_row1_col1\" class=\"data row1 col1\" >-101.59</td>\n",
       "      <td id=\"T_42c89_row1_col2\" class=\"data row1 col2\" ></td>\n",
       "      <td id=\"T_42c89_row1_col3\" class=\"data row1 col3\" ></td>\n",
       "      <td id=\"T_42c89_row1_col4\" class=\"data row1 col4\" >113.31</td>\n",
       "      <td id=\"T_42c89_row1_col5\" class=\"data row1 col5\" ></td>\n",
       "    </tr>\n",
       "    <tr>\n",
       "      <th id=\"T_42c89_level0_row2\" class=\"row_heading level0 row2\" >2020</th>\n",
       "      <td id=\"T_42c89_row2_col0\" class=\"data row2 col0\" >-1.5853</td>\n",
       "      <td id=\"T_42c89_row2_col1\" class=\"data row2 col1\" >-100.1</td>\n",
       "      <td id=\"T_42c89_row2_col2\" class=\"data row2 col2\" ></td>\n",
       "      <td id=\"T_42c89_row2_col3\" class=\"data row2 col3\" >113.31</td>\n",
       "      <td id=\"T_42c89_row2_col4\" class=\"data row2 col4\" ></td>\n",
       "      <td id=\"T_42c89_row2_col5\" class=\"data row2 col5\" ></td>\n",
       "    </tr>\n",
       "    <tr>\n",
       "      <th id=\"T_42c89_level0_row3\" class=\"row_heading level0 row3\" >2021</th>\n",
       "      <td id=\"T_42c89_row3_col0\" class=\"data row3 col0\" >-0.10424</td>\n",
       "      <td id=\"T_42c89_row3_col1\" class=\"data row3 col1\" >-100.38</td>\n",
       "      <td id=\"T_42c89_row3_col2\" class=\"data row3 col2\" >113.31</td>\n",
       "      <td id=\"T_42c89_row3_col3\" class=\"data row3 col3\" ></td>\n",
       "      <td id=\"T_42c89_row3_col4\" class=\"data row3 col4\" ></td>\n",
       "      <td id=\"T_42c89_row3_col5\" class=\"data row3 col5\" ></td>\n",
       "    </tr>\n",
       "    <tr>\n",
       "      <th id=\"T_42c89_level0_row4\" class=\"row_heading level0 row4\" >2022</th>\n",
       "      <td id=\"T_42c89_row4_col0\" class=\"data row4 col0\" >-0.38415</td>\n",
       "      <td id=\"T_42c89_row4_col1\" class=\"data row4 col1\" >8.5538</td>\n",
       "      <td id=\"T_42c89_row4_col2\" class=\"data row4 col2\" ></td>\n",
       "      <td id=\"T_42c89_row4_col3\" class=\"data row4 col3\" ></td>\n",
       "      <td id=\"T_42c89_row4_col4\" class=\"data row4 col4\" ></td>\n",
       "      <td id=\"T_42c89_row4_col5\" class=\"data row4 col5\" ></td>\n",
       "    </tr>\n",
       "    <tr>\n",
       "      <th id=\"T_42c89_level0_row5\" class=\"row_heading level0 row5\" >2023</th>\n",
       "      <td id=\"T_42c89_row5_col0\" class=\"data row5 col0\" >8.5538</td>\n",
       "      <td id=\"T_42c89_row5_col1\" class=\"data row5 col1\" ></td>\n",
       "      <td id=\"T_42c89_row5_col2\" class=\"data row5 col2\" ></td>\n",
       "      <td id=\"T_42c89_row5_col3\" class=\"data row5 col3\" ></td>\n",
       "      <td id=\"T_42c89_row5_col4\" class=\"data row5 col4\" ></td>\n",
       "      <td id=\"T_42c89_row5_col5\" class=\"data row5 col5\" ></td>\n",
       "    </tr>\n",
       "  </tbody>\n",
       "</table>\n"
      ],
      "text/plain": [
       "<pandas.io.formats.style.Styler at 0x162b7a990>"
      ]
     },
     "execution_count": 57,
     "metadata": {},
     "output_type": "execute_result"
    }
   ],
   "source": [
    "positions.replace(0,np.nan,inplace=True)\n",
    "positions.style.format('{:,.5}',na_rep='')"
   ]
  },
  {
   "cell_type": "code",
   "execution_count": 60,
   "metadata": {},
   "outputs": [
    {
     "data": {
      "text/html": [
       "<style type=\"text/css\">\n",
       "</style>\n",
       "<table id=\"T_9e98c\">\n",
       "  <thead>\n",
       "    <tr>\n",
       "      <th class=\"blank level0\" >&nbsp;</th>\n",
       "      <th id=\"T_9e98c_level0_col0\" class=\"col_heading level0 col0\" >cash</th>\n",
       "      <th id=\"T_9e98c_level0_col1\" class=\"col_heading level0 col1\" >1</th>\n",
       "      <th id=\"T_9e98c_level0_col2\" class=\"col_heading level0 col2\" >2</th>\n",
       "      <th id=\"T_9e98c_level0_col3\" class=\"col_heading level0 col3\" >3</th>\n",
       "      <th id=\"T_9e98c_level0_col4\" class=\"col_heading level0 col4\" >4</th>\n",
       "      <th id=\"T_9e98c_level0_col5\" class=\"col_heading level0 col5\" >5</th>\n",
       "    </tr>\n",
       "    <tr>\n",
       "      <th class=\"index_name level0\" >date</th>\n",
       "      <th class=\"blank col0\" >&nbsp;</th>\n",
       "      <th class=\"blank col1\" >&nbsp;</th>\n",
       "      <th class=\"blank col2\" >&nbsp;</th>\n",
       "      <th class=\"blank col3\" >&nbsp;</th>\n",
       "      <th class=\"blank col4\" >&nbsp;</th>\n",
       "      <th class=\"blank col5\" >&nbsp;</th>\n",
       "    </tr>\n",
       "  </thead>\n",
       "  <tbody>\n",
       "    <tr>\n",
       "      <th id=\"T_9e98c_level0_row0\" class=\"row_heading level0 row0\" >2018</th>\n",
       "      <td id=\"T_9e98c_row0_col0\" class=\"data row0 col0\" ></td>\n",
       "      <td id=\"T_9e98c_row0_col1\" class=\"data row0 col1\" >$-100,000,000.00</td>\n",
       "      <td id=\"T_9e98c_row0_col2\" class=\"data row0 col2\" ></td>\n",
       "      <td id=\"T_9e98c_row0_col3\" class=\"data row0 col3\" ></td>\n",
       "      <td id=\"T_9e98c_row0_col4\" class=\"data row0 col4\" ></td>\n",
       "      <td id=\"T_9e98c_row0_col5\" class=\"data row0 col5\" >$100,000,000.00</td>\n",
       "    </tr>\n",
       "    <tr>\n",
       "      <th id=\"T_9e98c_level0_row1\" class=\"row_heading level0 row1\" >2019</th>\n",
       "      <td id=\"T_9e98c_row1_col0\" class=\"data row1 col0\" >$-2,636,787.00</td>\n",
       "      <td id=\"T_9e98c_row1_col1\" class=\"data row1 col1\" >$-100,000,000.00</td>\n",
       "      <td id=\"T_9e98c_row1_col2\" class=\"data row1 col2\" ></td>\n",
       "      <td id=\"T_9e98c_row1_col3\" class=\"data row1 col3\" ></td>\n",
       "      <td id=\"T_9e98c_row1_col4\" class=\"data row1 col4\" >$106,021,315.23</td>\n",
       "      <td id=\"T_9e98c_row1_col5\" class=\"data row1 col5\" ></td>\n",
       "    </tr>\n",
       "    <tr>\n",
       "      <th id=\"T_9e98c_level0_row2\" class=\"row_heading level0 row2\" >2020</th>\n",
       "      <td id=\"T_9e98c_row2_col0\" class=\"data row2 col0\" >$-1,585,323.78</td>\n",
       "      <td id=\"T_9e98c_row2_col1\" class=\"data row2 col1\" >$-100,000,000.00</td>\n",
       "      <td id=\"T_9e98c_row2_col2\" class=\"data row2 col2\" ></td>\n",
       "      <td id=\"T_9e98c_row2_col3\" class=\"data row2 col3\" >$112,773,076.00</td>\n",
       "      <td id=\"T_9e98c_row2_col4\" class=\"data row2 col4\" ></td>\n",
       "      <td id=\"T_9e98c_row2_col5\" class=\"data row2 col5\" ></td>\n",
       "    </tr>\n",
       "    <tr>\n",
       "      <th id=\"T_9e98c_level0_row3\" class=\"row_heading level0 row3\" >2021</th>\n",
       "      <td id=\"T_9e98c_row3_col0\" class=\"data row3 col0\" >$-104,244.84</td>\n",
       "      <td id=\"T_9e98c_row3_col1\" class=\"data row3 col1\" >$-100,000,000.00</td>\n",
       "      <td id=\"T_9e98c_row3_col2\" class=\"data row3 col2\" >$111,662,841.48</td>\n",
       "      <td id=\"T_9e98c_row3_col3\" class=\"data row3 col3\" ></td>\n",
       "      <td id=\"T_9e98c_row3_col4\" class=\"data row3 col4\" ></td>\n",
       "      <td id=\"T_9e98c_row3_col5\" class=\"data row3 col5\" ></td>\n",
       "    </tr>\n",
       "    <tr>\n",
       "      <th id=\"T_9e98c_level0_row4\" class=\"row_heading level0 row4\" >2022</th>\n",
       "      <td id=\"T_9e98c_row4_col0\" class=\"data row4 col0\" >$-384,148.40</td>\n",
       "      <td id=\"T_9e98c_row4_col1\" class=\"data row4 col1\" >$8,165,785.45</td>\n",
       "      <td id=\"T_9e98c_row4_col2\" class=\"data row4 col2\" ></td>\n",
       "      <td id=\"T_9e98c_row4_col3\" class=\"data row4 col3\" ></td>\n",
       "      <td id=\"T_9e98c_row4_col4\" class=\"data row4 col4\" ></td>\n",
       "      <td id=\"T_9e98c_row4_col5\" class=\"data row4 col5\" ></td>\n",
       "    </tr>\n",
       "    <tr>\n",
       "      <th id=\"T_9e98c_level0_row5\" class=\"row_heading level0 row5\" >2023</th>\n",
       "      <td id=\"T_9e98c_row5_col0\" class=\"data row5 col0\" >$8,553,819.87</td>\n",
       "      <td id=\"T_9e98c_row5_col1\" class=\"data row5 col1\" ></td>\n",
       "      <td id=\"T_9e98c_row5_col2\" class=\"data row5 col2\" ></td>\n",
       "      <td id=\"T_9e98c_row5_col3\" class=\"data row5 col3\" ></td>\n",
       "      <td id=\"T_9e98c_row5_col4\" class=\"data row5 col4\" ></td>\n",
       "      <td id=\"T_9e98c_row5_col5\" class=\"data row5 col5\" ></td>\n",
       "    </tr>\n",
       "  </tbody>\n",
       "</table>\n"
      ],
      "text/plain": [
       "<pandas.io.formats.style.Styler at 0x165370450>"
      ]
     },
     "execution_count": 60,
     "metadata": {},
     "output_type": "execute_result"
    }
   ],
   "source": [
    "value.replace(0,np.nan,inplace=True)\n",
    "value.style.format('${:,.2f}',na_rep='')"
   ]
  },
  {
   "cell_type": "code",
   "execution_count": 61,
   "metadata": {},
   "outputs": [
    {
     "data": {
      "text/html": [
       "<style type=\"text/css\">\n",
       "</style>\n",
       "<table id=\"T_cda16\">\n",
       "  <thead>\n",
       "    <tr>\n",
       "      <th class=\"blank level0\" >&nbsp;</th>\n",
       "      <th id=\"T_cda16_level0_col0\" class=\"col_heading level0 col0\" >net</th>\n",
       "      <th id=\"T_cda16_level0_col1\" class=\"col_heading level0 col1\" >cash</th>\n",
       "      <th id=\"T_cda16_level0_col2\" class=\"col_heading level0 col2\" >1</th>\n",
       "      <th id=\"T_cda16_level0_col3\" class=\"col_heading level0 col3\" >2</th>\n",
       "      <th id=\"T_cda16_level0_col4\" class=\"col_heading level0 col4\" >3</th>\n",
       "      <th id=\"T_cda16_level0_col5\" class=\"col_heading level0 col5\" >4</th>\n",
       "      <th id=\"T_cda16_level0_col6\" class=\"col_heading level0 col6\" >5</th>\n",
       "    </tr>\n",
       "    <tr>\n",
       "      <th class=\"index_name level0\" >date</th>\n",
       "      <th class=\"blank col0\" >&nbsp;</th>\n",
       "      <th class=\"blank col1\" >&nbsp;</th>\n",
       "      <th class=\"blank col2\" >&nbsp;</th>\n",
       "      <th class=\"blank col3\" >&nbsp;</th>\n",
       "      <th class=\"blank col4\" >&nbsp;</th>\n",
       "      <th class=\"blank col5\" >&nbsp;</th>\n",
       "      <th class=\"blank col6\" >&nbsp;</th>\n",
       "    </tr>\n",
       "  </thead>\n",
       "  <tbody>\n",
       "    <tr>\n",
       "      <th id=\"T_cda16_level0_row0\" class=\"row_heading level0 row0\" >2018</th>\n",
       "      <td id=\"T_cda16_row0_col0\" class=\"data row0 col0\" ></td>\n",
       "      <td id=\"T_cda16_row0_col1\" class=\"data row0 col1\" ></td>\n",
       "      <td id=\"T_cda16_row0_col2\" class=\"data row0 col2\" ></td>\n",
       "      <td id=\"T_cda16_row0_col3\" class=\"data row0 col3\" ></td>\n",
       "      <td id=\"T_cda16_row0_col4\" class=\"data row0 col4\" ></td>\n",
       "      <td id=\"T_cda16_row0_col5\" class=\"data row0 col5\" ></td>\n",
       "      <td id=\"T_cda16_row0_col6\" class=\"data row0 col6\" ></td>\n",
       "    </tr>\n",
       "    <tr>\n",
       "      <th id=\"T_cda16_level0_row1\" class=\"row_heading level0 row1\" >2019</th>\n",
       "      <td id=\"T_cda16_row1_col0\" class=\"data row1 col0\" >$3,384,528.23</td>\n",
       "      <td id=\"T_cda16_row1_col1\" class=\"data row1 col1\" >$-2,636,787.00</td>\n",
       "      <td id=\"T_cda16_row1_col2\" class=\"data row1 col2\" ></td>\n",
       "      <td id=\"T_cda16_row1_col3\" class=\"data row1 col3\" ></td>\n",
       "      <td id=\"T_cda16_row1_col4\" class=\"data row1 col4\" ></td>\n",
       "      <td id=\"T_cda16_row1_col5\" class=\"data row1 col5\" >$106,021,315.23</td>\n",
       "      <td id=\"T_cda16_row1_col6\" class=\"data row1 col6\" >$-100,000,000.00</td>\n",
       "    </tr>\n",
       "    <tr>\n",
       "      <th id=\"T_cda16_level0_row2\" class=\"row_heading level0 row2\" >2020</th>\n",
       "      <td id=\"T_cda16_row2_col0\" class=\"data row2 col0\" >$5,166,436.98</td>\n",
       "      <td id=\"T_cda16_row2_col1\" class=\"data row2 col1\" >$-1,585,323.78</td>\n",
       "      <td id=\"T_cda16_row2_col2\" class=\"data row2 col2\" ></td>\n",
       "      <td id=\"T_cda16_row2_col3\" class=\"data row2 col3\" ></td>\n",
       "      <td id=\"T_cda16_row2_col4\" class=\"data row2 col4\" >$112,773,076.00</td>\n",
       "      <td id=\"T_cda16_row2_col5\" class=\"data row2 col5\" >$-106,021,315.23</td>\n",
       "      <td id=\"T_cda16_row2_col6\" class=\"data row2 col6\" ></td>\n",
       "    </tr>\n",
       "    <tr>\n",
       "      <th id=\"T_cda16_level0_row3\" class=\"row_heading level0 row3\" >2021</th>\n",
       "      <td id=\"T_cda16_row3_col0\" class=\"data row3 col0\" >$-1,214,479.36</td>\n",
       "      <td id=\"T_cda16_row3_col1\" class=\"data row3 col1\" >$-104,244.84</td>\n",
       "      <td id=\"T_cda16_row3_col2\" class=\"data row3 col2\" ></td>\n",
       "      <td id=\"T_cda16_row3_col3\" class=\"data row3 col3\" >$111,662,841.48</td>\n",
       "      <td id=\"T_cda16_row3_col4\" class=\"data row3 col4\" >$-112,773,076.00</td>\n",
       "      <td id=\"T_cda16_row3_col5\" class=\"data row3 col5\" ></td>\n",
       "      <td id=\"T_cda16_row3_col6\" class=\"data row3 col6\" ></td>\n",
       "    </tr>\n",
       "    <tr>\n",
       "      <th id=\"T_cda16_level0_row4\" class=\"row_heading level0 row4\" >2022</th>\n",
       "      <td id=\"T_cda16_row4_col0\" class=\"data row4 col0\" >$-3,881,204.42</td>\n",
       "      <td id=\"T_cda16_row4_col1\" class=\"data row4 col1\" >$-384,148.40</td>\n",
       "      <td id=\"T_cda16_row4_col2\" class=\"data row4 col2\" >$108,165,785.45</td>\n",
       "      <td id=\"T_cda16_row4_col3\" class=\"data row4 col3\" >$-111,662,841.48</td>\n",
       "      <td id=\"T_cda16_row4_col4\" class=\"data row4 col4\" ></td>\n",
       "      <td id=\"T_cda16_row4_col5\" class=\"data row4 col5\" ></td>\n",
       "      <td id=\"T_cda16_row4_col6\" class=\"data row4 col6\" ></td>\n",
       "    </tr>\n",
       "    <tr>\n",
       "      <th id=\"T_cda16_level0_row5\" class=\"row_heading level0 row5\" >2023</th>\n",
       "      <td id=\"T_cda16_row5_col0\" class=\"data row5 col0\" >$388,034.42</td>\n",
       "      <td id=\"T_cda16_row5_col1\" class=\"data row5 col1\" >$8,553,819.87</td>\n",
       "      <td id=\"T_cda16_row5_col2\" class=\"data row5 col2\" >$-8,165,785.45</td>\n",
       "      <td id=\"T_cda16_row5_col3\" class=\"data row5 col3\" ></td>\n",
       "      <td id=\"T_cda16_row5_col4\" class=\"data row5 col4\" ></td>\n",
       "      <td id=\"T_cda16_row5_col5\" class=\"data row5 col5\" ></td>\n",
       "      <td id=\"T_cda16_row5_col6\" class=\"data row5 col6\" ></td>\n",
       "    </tr>\n",
       "    <tr>\n",
       "      <th id=\"T_cda16_level0_row6\" class=\"row_heading level0 row6\" >cumulative</th>\n",
       "      <td id=\"T_cda16_row6_col0\" class=\"data row6 col0\" >$3,843,315.85</td>\n",
       "      <td id=\"T_cda16_row6_col1\" class=\"data row6 col1\" ></td>\n",
       "      <td id=\"T_cda16_row6_col2\" class=\"data row6 col2\" ></td>\n",
       "      <td id=\"T_cda16_row6_col3\" class=\"data row6 col3\" ></td>\n",
       "      <td id=\"T_cda16_row6_col4\" class=\"data row6 col4\" ></td>\n",
       "      <td id=\"T_cda16_row6_col5\" class=\"data row6 col5\" ></td>\n",
       "      <td id=\"T_cda16_row6_col6\" class=\"data row6 col6\" ></td>\n",
       "    </tr>\n",
       "  </tbody>\n",
       "</table>\n"
      ],
      "text/plain": [
       "<pandas.io.formats.style.Styler at 0x1655927d0>"
      ]
     },
     "execution_count": 61,
     "metadata": {},
     "output_type": "execute_result"
    }
   ],
   "source": [
    "pnl.replace(0,np.nan,inplace=True)\n",
    "pnl.style.format('${:,.2f}',na_rep='')"
   ]
  },
  {
   "cell_type": "markdown",
   "metadata": {},
   "source": [
    "**Q:** Calculate the total return (Dec 2023) on the initial \\$4 million of investor capital."
   ]
  },
  {
   "cell_type": "markdown",
   "metadata": {},
   "source": [
    "#### Returns"
   ]
  },
  {
   "cell_type": "code",
   "execution_count": 121,
   "metadata": {},
   "outputs": [
    {
     "data": {
      "text/html": [
       "<div>\n",
       "<style scoped>\n",
       "    .dataframe tbody tr th:only-of-type {\n",
       "        vertical-align: middle;\n",
       "    }\n",
       "\n",
       "    .dataframe tbody tr th {\n",
       "        vertical-align: top;\n",
       "    }\n",
       "\n",
       "    .dataframe thead th {\n",
       "        text-align: right;\n",
       "    }\n",
       "</style>\n",
       "<table border=\"1\" class=\"dataframe\">\n",
       "  <thead>\n",
       "    <tr style=\"text-align: right;\">\n",
       "      <th></th>\n",
       "      <th>pnl</th>\n",
       "      <th>cumulative pnl</th>\n",
       "      <th>cumulative ret (on initial capital)</th>\n",
       "    </tr>\n",
       "    <tr>\n",
       "      <th>date</th>\n",
       "      <th></th>\n",
       "      <th></th>\n",
       "      <th></th>\n",
       "    </tr>\n",
       "  </thead>\n",
       "  <tbody>\n",
       "    <tr>\n",
       "      <th>2018</th>\n",
       "      <td>0.000000e+00</td>\n",
       "      <td>0.000000e+00</td>\n",
       "      <td>0.000000</td>\n",
       "    </tr>\n",
       "    <tr>\n",
       "      <th>2019</th>\n",
       "      <td>3.384528e+06</td>\n",
       "      <td>3.384528e+06</td>\n",
       "      <td>0.846132</td>\n",
       "    </tr>\n",
       "    <tr>\n",
       "      <th>2020</th>\n",
       "      <td>5.166437e+06</td>\n",
       "      <td>8.550965e+06</td>\n",
       "      <td>2.137741</td>\n",
       "    </tr>\n",
       "    <tr>\n",
       "      <th>2021</th>\n",
       "      <td>-1.214479e+06</td>\n",
       "      <td>7.336486e+06</td>\n",
       "      <td>1.834121</td>\n",
       "    </tr>\n",
       "    <tr>\n",
       "      <th>2022</th>\n",
       "      <td>-3.881204e+06</td>\n",
       "      <td>3.455281e+06</td>\n",
       "      <td>0.863820</td>\n",
       "    </tr>\n",
       "    <tr>\n",
       "      <th>2023</th>\n",
       "      <td>3.880344e+05</td>\n",
       "      <td>3.843316e+06</td>\n",
       "      <td>0.960829</td>\n",
       "    </tr>\n",
       "  </tbody>\n",
       "</table>\n",
       "</div>"
      ],
      "text/plain": [
       "               pnl  cumulative pnl  cumulative ret (on initial capital)\n",
       "date                                                                   \n",
       "2018  0.000000e+00    0.000000e+00                             0.000000\n",
       "2019  3.384528e+06    3.384528e+06                             0.846132\n",
       "2020  5.166437e+06    8.550965e+06                             2.137741\n",
       "2021 -1.214479e+06    7.336486e+06                             1.834121\n",
       "2022 -3.881204e+06    3.455281e+06                             0.863820\n",
       "2023  3.880344e+05    3.843316e+06                             0.960829"
      ]
     },
     "execution_count": 121,
     "metadata": {},
     "output_type": "execute_result"
    }
   ],
   "source": [
    "capital = HAIRCUT * INIT_SIZE * 2\n",
    "\n",
    "rets = pnl[['net']].drop('cumulative').rename(columns={'net':'pnl'})\n",
    "rets['cumulative pnl'] = rets['pnl'].cumsum()\n",
    "rets['cumulative ret (on initial capital)'] = (rets['cumulative pnl'])/capital\n",
    "rets"
   ]
  },
  {
   "cell_type": "code",
   "execution_count": 122,
   "metadata": {},
   "outputs": [
    {
     "data": {
      "text/plain": [
       "<Axes: xlabel='date'>"
      ]
     },
     "execution_count": 122,
     "metadata": {},
     "output_type": "execute_result"
    },
    {
     "data": {
      "image/png": "[encoded data removed]",
      "text/plain": [
       "<Figure size 800x400 with 1 Axes>"
      ]
     },
     "metadata": {},
     "output_type": "display_data"
    }
   ],
   "source": [
    "rets.iloc[:,-1:].plot(figsize = (8, 4))"
   ]
  },
  {
   "cell_type": "markdown",
   "metadata": {},
   "source": [
    "**Attribution**\n",
    "\n",
    "The profit of this trade is about falling interest rates in 2018-2020. The initial term spread is slightly negative, yet the profits are positive early due to the duration exposure and subsequent drop in rates. \n",
    "\n",
    "In the final few years, rates go up, and the term spread inverts, both of which cause losses to the investor."
   ]
  },
  {
   "cell_type": "code",
   "execution_count": 80,
   "metadata": {},
   "outputs": [
    {
     "data": {
      "text/html": [
       "<div>\n",
       "<style scoped>\n",
       "    .dataframe tbody tr th:only-of-type {\n",
       "        vertical-align: middle;\n",
       "    }\n",
       "\n",
       "    .dataframe tbody tr th {\n",
       "        vertical-align: top;\n",
       "    }\n",
       "\n",
       "    .dataframe thead th {\n",
       "        text-align: right;\n",
       "    }\n",
       "</style>\n",
       "<table border=\"1\" class=\"dataframe\">\n",
       "  <thead>\n",
       "    <tr style=\"text-align: right;\">\n",
       "      <th></th>\n",
       "      <th>1</th>\n",
       "      <th>2</th>\n",
       "      <th>3</th>\n",
       "      <th>4</th>\n",
       "      <th>5</th>\n",
       "    </tr>\n",
       "    <tr>\n",
       "      <th>date</th>\n",
       "      <th></th>\n",
       "      <th></th>\n",
       "      <th></th>\n",
       "      <th></th>\n",
       "      <th></th>\n",
       "    </tr>\n",
       "  </thead>\n",
       "  <tbody>\n",
       "    <tr>\n",
       "      <th>2018</th>\n",
       "      <td>0.026026</td>\n",
       "      <td>0.024617</td>\n",
       "      <td>0.024431</td>\n",
       "      <td>0.024734</td>\n",
       "      <td>0.024984</td>\n",
       "    </tr>\n",
       "    <tr>\n",
       "      <th>2019</th>\n",
       "      <td>0.015729</td>\n",
       "      <td>0.015777</td>\n",
       "      <td>0.016059</td>\n",
       "      <td>0.016612</td>\n",
       "      <td>0.016913</td>\n",
       "    </tr>\n",
       "    <tr>\n",
       "      <th>2020</th>\n",
       "      <td>0.001042</td>\n",
       "      <td>0.001242</td>\n",
       "      <td>0.001571</td>\n",
       "      <td>0.002650</td>\n",
       "      <td>0.003727</td>\n",
       "    </tr>\n",
       "    <tr>\n",
       "      <th>2021</th>\n",
       "      <td>0.003834</td>\n",
       "      <td>0.007303</td>\n",
       "      <td>0.009724</td>\n",
       "      <td>0.011545</td>\n",
       "      <td>0.012659</td>\n",
       "    </tr>\n",
       "    <tr>\n",
       "      <th>2022</th>\n",
       "      <td>0.046425</td>\n",
       "      <td>0.043744</td>\n",
       "      <td>0.041346</td>\n",
       "      <td>0.040322</td>\n",
       "      <td>0.039618</td>\n",
       "    </tr>\n",
       "    <tr>\n",
       "      <th>2023</th>\n",
       "      <td>0.047314</td>\n",
       "      <td>0.041884</td>\n",
       "      <td>0.039398</td>\n",
       "      <td>0.038675</td>\n",
       "      <td>0.038053</td>\n",
       "    </tr>\n",
       "  </tbody>\n",
       "</table>\n",
       "</div>"
      ],
      "text/plain": [
       "             1         2         3         4         5\n",
       "date                                                  \n",
       "2018  0.026026  0.024617  0.024431  0.024734  0.024984\n",
       "2019  0.015729  0.015777  0.016059  0.016612  0.016913\n",
       "2020  0.001042  0.001242  0.001571  0.002650  0.003727\n",
       "2021  0.003834  0.007303  0.009724  0.011545  0.012659\n",
       "2022  0.046425  0.043744  0.041346  0.040322  0.039618\n",
       "2023  0.047314  0.041884  0.039398  0.038675  0.038053"
      ]
     },
     "execution_count": 80,
     "metadata": {},
     "output_type": "execute_result"
    }
   ],
   "source": [
    "spots"
   ]
  },
  {
   "cell_type": "markdown",
   "metadata": {},
   "source": [
    "**Q:** How would this trade play out if the path of one-year spot rates equaled the forward rates observed in 2018?"
   ]
  },
  {
   "cell_type": "markdown",
   "metadata": {},
   "source": [
    "In this scenario, the trade wouldn't be profitable: the return to holding the 5-year bond would equal the return to holding the one-year bond and rolling it over five years."
   ]
  },
  {
   "cell_type": "markdown",
   "metadata": {},
   "source": [
    "**Q:** Given Fact 3 of the *dynamic* (conditional) tests of EH in notebook W.5., do you expect that as of Dec 2023 the long-short trade above looks more or less favorable for Dec 2023-2028 than it did for Dec 2018-2023?"
   ]
  },
  {
   "cell_type": "markdown",
   "metadata": {},
   "source": [
    "This is a question as to whether the forward-spot spread is bigger in 2018 or 2023. In W.5., we learned (in Dynamic Fact 3) that in times of higher forward-spot spreads, the expected excess return and realized yields are larger.\n",
    "\n",
    "The table below shows that the forward-spot spread on 5-year bonds was `10bps` in 2018 and `-25bps` in 2023. Thus, we expect that the return to this trade (long 5-year bond, short 1-year bond) will be substantially worse in 2023-2028."
   ]
  },
  {
   "cell_type": "code",
   "execution_count": 81,
   "metadata": {},
   "outputs": [
    {
     "data": {
      "text/html": [
       "<style type=\"text/css\">\n",
       "</style>\n",
       "<table id=\"T_7e583\">\n",
       "  <thead>\n",
       "    <tr>\n",
       "      <th class=\"index_name level0\" >2018: (n-1) to n</th>\n",
       "      <th id=\"T_7e583_level0_col0\" class=\"col_heading level0 col0\" >1</th>\n",
       "      <th id=\"T_7e583_level0_col1\" class=\"col_heading level0 col1\" >2</th>\n",
       "      <th id=\"T_7e583_level0_col2\" class=\"col_heading level0 col2\" >3</th>\n",
       "      <th id=\"T_7e583_level0_col3\" class=\"col_heading level0 col3\" >4</th>\n",
       "      <th id=\"T_7e583_level0_col4\" class=\"col_heading level0 col4\" >5</th>\n",
       "    </tr>\n",
       "    <tr>\n",
       "      <th class=\"index_name level0\" >date</th>\n",
       "      <th class=\"blank col0\" >&nbsp;</th>\n",
       "      <th class=\"blank col1\" >&nbsp;</th>\n",
       "      <th class=\"blank col2\" >&nbsp;</th>\n",
       "      <th class=\"blank col3\" >&nbsp;</th>\n",
       "      <th class=\"blank col4\" >&nbsp;</th>\n",
       "    </tr>\n",
       "  </thead>\n",
       "  <tbody>\n",
       "    <tr>\n",
       "      <th id=\"T_7e583_level0_row0\" class=\"row_heading level0 row0\" >2018</th>\n",
       "      <td id=\"T_7e583_row0_col0\" class=\"data row0 col0\" >0.00%</td>\n",
       "      <td id=\"T_7e583_row0_col1\" class=\"data row0 col1\" >-0.14%</td>\n",
       "      <td id=\"T_7e583_row0_col2\" class=\"data row0 col2\" >-0.04%</td>\n",
       "      <td id=\"T_7e583_row0_col3\" class=\"data row0 col3\" >0.09%</td>\n",
       "      <td id=\"T_7e583_row0_col4\" class=\"data row0 col4\" >0.10%</td>\n",
       "    </tr>\n",
       "    <tr>\n",
       "      <th id=\"T_7e583_level0_row1\" class=\"row_heading level0 row1\" >2019</th>\n",
       "      <td id=\"T_7e583_row1_col0\" class=\"data row1 col0\" >0.00%</td>\n",
       "      <td id=\"T_7e583_row1_col1\" class=\"data row1 col1\" >0.00%</td>\n",
       "      <td id=\"T_7e583_row1_col2\" class=\"data row1 col2\" >0.06%</td>\n",
       "      <td id=\"T_7e583_row1_col3\" class=\"data row1 col3\" >0.17%</td>\n",
       "      <td id=\"T_7e583_row1_col4\" class=\"data row1 col4\" >0.12%</td>\n",
       "    </tr>\n",
       "    <tr>\n",
       "      <th id=\"T_7e583_level0_row2\" class=\"row_heading level0 row2\" >2020</th>\n",
       "      <td id=\"T_7e583_row2_col0\" class=\"data row2 col0\" >0.00%</td>\n",
       "      <td id=\"T_7e583_row2_col1\" class=\"data row2 col1\" >0.02%</td>\n",
       "      <td id=\"T_7e583_row2_col2\" class=\"data row2 col2\" >0.07%</td>\n",
       "      <td id=\"T_7e583_row2_col3\" class=\"data row2 col3\" >0.32%</td>\n",
       "      <td id=\"T_7e583_row2_col4\" class=\"data row2 col4\" >0.43%</td>\n",
       "    </tr>\n",
       "    <tr>\n",
       "      <th id=\"T_7e583_level0_row3\" class=\"row_heading level0 row3\" >2021</th>\n",
       "      <td id=\"T_7e583_row3_col0\" class=\"data row3 col0\" >0.00%</td>\n",
       "      <td id=\"T_7e583_row3_col1\" class=\"data row3 col1\" >0.35%</td>\n",
       "      <td id=\"T_7e583_row3_col2\" class=\"data row3 col2\" >0.48%</td>\n",
       "      <td id=\"T_7e583_row3_col3\" class=\"data row3 col3\" >0.55%</td>\n",
       "      <td id=\"T_7e583_row3_col4\" class=\"data row3 col4\" >0.45%</td>\n",
       "    </tr>\n",
       "    <tr>\n",
       "      <th id=\"T_7e583_level0_row4\" class=\"row_heading level0 row4\" >2022</th>\n",
       "      <td id=\"T_7e583_row4_col0\" class=\"data row4 col0\" >0.00%</td>\n",
       "      <td id=\"T_7e583_row4_col1\" class=\"data row4 col1\" >-0.27%</td>\n",
       "      <td id=\"T_7e583_row4_col2\" class=\"data row4 col2\" >-0.48%</td>\n",
       "      <td id=\"T_7e583_row4_col3\" class=\"data row4 col3\" >-0.31%</td>\n",
       "      <td id=\"T_7e583_row4_col4\" class=\"data row4 col4\" >-0.28%</td>\n",
       "    </tr>\n",
       "    <tr>\n",
       "      <th id=\"T_7e583_level0_row5\" class=\"row_heading level0 row5\" >2023</th>\n",
       "      <td id=\"T_7e583_row5_col0\" class=\"data row5 col0\" >0.00%</td>\n",
       "      <td id=\"T_7e583_row5_col1\" class=\"data row5 col1\" >-0.54%</td>\n",
       "      <td id=\"T_7e583_row5_col2\" class=\"data row5 col2\" >-0.50%</td>\n",
       "      <td id=\"T_7e583_row5_col3\" class=\"data row5 col3\" >-0.22%</td>\n",
       "      <td id=\"T_7e583_row5_col4\" class=\"data row5 col4\" >-0.25%</td>\n",
       "    </tr>\n",
       "  </tbody>\n",
       "</table>\n"
      ],
      "text/plain": [
       "<pandas.io.formats.style.Styler at 0x1659743d0>"
      ]
     },
     "execution_count": 81,
     "metadata": {},
     "output_type": "execute_result"
    }
   ],
   "source": [
    "(f-spots).style.format('{:.2%}')"
   ]
  },
  {
   "cell_type": "markdown",
   "metadata": {},
   "source": [
    "# Lecture Review"
   ]
  },
  {
   "cell_type": "markdown",
   "metadata": {},
   "source": [
    "### FRA (Forward Rate Agreement)\n",
    "\n",
    "- Agreement on lock in the rate in the future by paying the floating rate to counterparty.\n",
    "\n",
    "$$\\begin{align*}\n",
    "& \\quad N \\Delta\\left[f_n(0,T_1,T_2)-r_n(T_1,T_2)\\right]\\\\[6pt]\n",
    "\\Delta \\equiv & \\quad T_2-T_1\\\\[6pt]\n",
    "N \\equiv & \\quad \\text{Notional Investment}\n",
    "\\end{align*}$$\n",
    "- No-arbitrage replication\n",
    "\n",
    "### Forward Contracts\n",
    "- Agreement to buy a bond with maturity $T$ \n",
    "  - at a specific time in the future, $T_0$\n",
    "  - at a specific price, $P_{\\text{Fwd}}(t,T_0,T)$\n",
    "- Prive vs Value\n",
    "  - Price of the forward contract is set as the value is 0 at initialization.\n",
    "  - Value will move with interest rates (initially 0)\n",
    "  - Final payoff: $V_{\\text{Fwd}}(T_0,T) = P(T_0,T) - P_{\\text{Fwd}}(0,T_0,T)$\n",
    "  - Interim value at time $t$: $V_{\\text{Fwd}}(t,T_0,T) = Z(t,T_0)\\left[P_{\\text{Fwd}}(t,T_0,T) - P_{\\text{Fwd}}(0,T_0,T)\\right]$\n",
    "\n",
    "Forward rate is very important since, \n",
    "  - forward loan: traded in the market\n",
    "  - forward rate agreement: one time swap, how to hedge the risk? "
   ]
  },
  {
   "cell_type": "markdown",
   "metadata": {},
   "source": [
    "### Term Premium\n",
    "\n",
    "- **Term Spread**: long term yield - short term yield\n",
    "\n",
    "- **Term premium**: the risk premium of holding long term bond as holding bond for long term is risky.\n",
    "\n",
    "  - A risk premium investors demand for taking on **interest rate risk**\n",
    "  - is a measure of protection against unforeseen risks \n",
    "    - such as inflation and supply-demand shocks, encapsulating everything apart from expectations for the path of near-term interest rates.\n",
    "  - The decreasing term premium could be the reason of negative term structure, rather than actual decrease in short rates\n",
    "    - Why term premium decreasing? If the market is strong.\n",
    "  - Term premium is hard to define?\n",
    "    - It is what investors might expect in the future, which is hard to estimate without model."
   ]
  },
  {
   "cell_type": "markdown",
   "metadata": {},
   "source": [
    "$\\renewcommand{\\logyield}{y}$\n",
    "$\\renewcommand{\\mat}{(n)}$\n",
    "\n",
    "### Expectation Hypothesis\n",
    "  \n",
    "#### 1. The $n$-period yield is the average of expected one-period yields.\n",
    "  - e.g.) today's 10years yield is the average of next 10 1-year yields. \n",
    "  - It's market expectation of rates. So there is no risk premium comes in.\n",
    "\n",
    "  $$\\begin{align*}\n",
    "  \\logyield^{\\mat}_t = \\frac{1}{n}\\mathbb{E}_t\\left[\\logyield^{(1)}_t + \\logyield^{(1)}_{t+1} + \\logyield^{(1)}_{t+2} + \\ldots + \\logyield^{(1)}_{t+n-1}\\right]\n",
    "  \\end{align*}$$\n",
    "\n",
    "  - Empirical Analysis: Long-term yields are higher than short-term yields--even averaged over long periods of time.\n",
    "  - Dynamic Test: The idea that today's 5-year rate is a forecast of future 1-year rates is supported by the data. \n",
    "    - We test the following regression, and we expect $\\alpha^{(n)}=0$ and $\\beta^{(n)}=1$ if EH holds.\n",
    "\n",
    "    $$\\begin{align*}\n",
    "    \\frac{1}{n}\\sum_{i=0}^{n-1}\\tilde{y}^{(1)}_{t+i} = \\alpha^{(n)} + \\beta^{(n)} \\tilde{y}^{(n)}_t + \\epsilon^{(n)}_{t+n}\n",
    "    \\end{align*}$$\n",
    "\n",
    "    - Beta close to 30% and alpha is not zero. There is constant term premium (alpha) but also time-vaying risk premium (beta)\n",
    "    - beta = 1 is our focus to test EH"
   ]
  },
  {
   "cell_type": "markdown",
   "metadata": {},
   "source": [
    "\n",
    "#### 2. The forward rate is the market's expectation of the future spot rate:\n",
    "  - Today's forward rate is the market's expectation of one year yied. It is ture expectation of spot rate. Forward rate is risk neutral expectation. There is no risk premium\n",
    "\n",
    "  $$\\begin{align*}\n",
    "  f_t^{(n\\to n+1)} = \\mathbb{E}_t\\left[y^{(1)}_{t+n}\\right]\n",
    "  \\end{align*}$$\n",
    "\n",
    "  - Empirical Analysis: The forward rates are higher on average than the future yield\n",
    "  - Dynamic Test: Forward Rates don't just overestimate yields by a fixed amount; rather, forward rates have little correlation to realized future yields.\n",
    "    - We test the following regression, and we expect $\\alpha=0$ and $\\beta=1$ if EH holds. LHS is the future yield growth, the difference between the future yield and the current yield.\n",
    "\n",
    "    $$\\texttt{y}^{(1)}_{t+12n} - \\texttt{y}^{(1)}_{t} = \\alpha + \\beta\\, \\left(\\texttt{f}^{(n\\to n+1)}_t -  \\texttt{y}^{(1)}_{t}\\right) + \\epsilon_{t+1}$$\n",
    "\n",
    "    - The forward spread has small beta on predicting future yield growth.\n",
    "    - Beta closer to 0: forward rate is not a good predictor of future spot rate. Instead, forward rates predict higher return (from below 3rd formulation)\n"
   ]
  },
  {
   "cell_type": "markdown",
   "metadata": {},
   "source": [
    "\n",
    "#### 3. For any maturity, $n$, the one-period expected return is the one-period yield.\n",
    "\n",
    "  $$\\begin{align*}\n",
    "  \\mathbb{E}_t\\left[r_{t+1}^{\\mat}\\right] = y_t^{(1)}\n",
    "  \\end{align*}$$\n",
    "\n",
    "  - Empirical Analysis: Excess returns are not zero\n",
    "  - Dynamic Test: Returns don't just differ across maturities--they differ over time in predictable ways.\n",
    "    $$\\texttt{r}^{(n)}_{t+12} - \\texttt{y}^{(1)}_{t} = \\alpha + \\beta\\, \\left(\\texttt{f}^{(n\\to n+1)}_t -  \\texttt{y}^{(1)}_{t}\\right) + \\epsilon_{t+1}$$\n",
    "\n",
    "    - The $\\beta$ should be close to 0.\n",
    "    - If beta is zero, EH works, if alpha=0 then perfect. But there is special of beta=1. This means forward rates is entirely about risk premia.\n",
    "    - "
   ]
  },
  {
   "cell_type": "markdown",
   "metadata": {},
   "source": [
    "# Exam 2023"
   ]
  },
  {
   "cell_type": "markdown",
   "metadata": {},
   "source": [
    "## 4.1\n",
    "\n",
    "Use the Expectations Hypothesis to get a forecast the one-year spot rate that will be available in December of the following four years, (2023, 2024, 2025, 2026.)"
   ]
  },
  {
   "cell_type": "markdown",
   "metadata": {},
   "source": [
    "The Expectations Hypothesis says that today's forward rate is the best forecast of the future spot rate:\n",
    "\n",
    "$$\\mathbb{E}_t\\left[r(T_1,T_2)\\right] = f(t,T_1,T_2)$$\n",
    "\n",
    "**Thus, we simply use the forward rates calculated in problem 2.5.**"
   ]
  },
  {
   "cell_type": "code",
   "execution_count": null,
   "metadata": {},
   "outputs": [
    {
     "data": {
      "text/html": [
       "<div>\n",
       "<style scoped>\n",
       "    .dataframe tbody tr th:only-of-type {\n",
       "        vertical-align: middle;\n",
       "    }\n",
       "\n",
       "    .dataframe tbody tr th {\n",
       "        vertical-align: top;\n",
       "    }\n",
       "\n",
       "    .dataframe thead th {\n",
       "        text-align: right;\n",
       "    }\n",
       "</style>\n",
       "<table border=\"1\" class=\"dataframe\">\n",
       "  <thead>\n",
       "    <tr style=\"text-align: right;\">\n",
       "      <th></th>\n",
       "      <th>semiannual</th>\n",
       "      <th>continuous</th>\n",
       "    </tr>\n",
       "    <tr>\n",
       "      <th>maturity</th>\n",
       "      <th></th>\n",
       "      <th></th>\n",
       "    </tr>\n",
       "  </thead>\n",
       "  <tbody>\n",
       "    <tr>\n",
       "      <th>1.002053</th>\n",
       "      <td>0.046961</td>\n",
       "      <td>0.046961</td>\n",
       "    </tr>\n",
       "    <tr>\n",
       "      <th>2.004107</th>\n",
       "      <td>0.040721</td>\n",
       "      <td>0.040721</td>\n",
       "    </tr>\n",
       "    <tr>\n",
       "      <th>3.003422</th>\n",
       "      <td>0.036346</td>\n",
       "      <td>0.036346</td>\n",
       "    </tr>\n",
       "    <tr>\n",
       "      <th>4.002738</th>\n",
       "      <td>0.038354</td>\n",
       "      <td>0.038354</td>\n",
       "    </tr>\n",
       "    <tr>\n",
       "      <th>5.002053</th>\n",
       "      <td>0.034836</td>\n",
       "      <td>0.034836</td>\n",
       "    </tr>\n",
       "  </tbody>\n",
       "</table>\n",
       "</div>"
      ],
      "text/plain": [
       "          semiannual  continuous\n",
       "maturity                        \n",
       "1.002053    0.046961    0.046961\n",
       "2.004107    0.040721    0.040721\n",
       "3.003422    0.036346    0.036346\n",
       "4.002738    0.038354    0.038354\n",
       "5.002053    0.034836    0.034836"
      ]
     },
     "metadata": {},
     "output_type": "display_data"
    }
   ],
   "source": [
    "forward[['semiannual','continuous']].iloc[1::2]"
   ]
  },
  {
   "cell_type": "markdown",
   "metadata": {},
   "source": [
    "## 4.2 (5pts)\n",
    "\n",
    "Based on evidence we reviewed of the Expectations Hypothesis, do you expect the forecasts above are too high or low? Explain.\n"
   ]
  },
  {
   "cell_type": "markdown",
   "metadata": {},
   "source": [
    "The forecasts are likely too high.\n",
    "\n",
    "In W.5., we saw evidence that forward rates are useful as forecasts, but that they are (on average) higher than the future one-year spot rates. This was one of the pieces of evidence that the Expectations Hypothesis is false."
   ]
  },
  {
   "cell_type": "markdown",
   "metadata": {},
   "source": [
    "## 4.3 (5pts)\n",
    "\n",
    "Suppose that the following month, January 2023, we observe that the forward rates have increased. Is it likely that the future spot rates (in Jan 2023, 2024, 2025, 2026) will increase as well? Explain."
   ]
  },
  {
   "cell_type": "markdown",
   "metadata": {},
   "source": [
    "Yes, **on average** they increase, but it is not **likely**.\n",
    "\n",
    "In W.5., in the Dynamic Tests of the EH, Fact 2 ran a regression showing that innovations to the forward rate are positively correlated with changes to the future spot (positive betas) but that it is an extremely weak relationship (r-squared near zero.)"
   ]
  },
  {
   "cell_type": "markdown",
   "metadata": {},
   "source": [
    "## 4.4 (5pts)\n",
    "\n",
    "As of December 2022, describe (conceptually) the \"carry trade\" you would recommend an investor implement.."
   ]
  },
  {
   "cell_type": "markdown",
   "metadata": {},
   "source": [
    "We saw that an upward sloping spot curve predicts profits to going long the long-term bond and shorting the short-term bond, due to the failure of the Expectations Hypothesis. (See HW 5).\n",
    "\n",
    "**Thus, given the downward sloping spot curve in Dec 2022, the appropriate carry trade would be to set up the following position:**\n",
    "* short long-term (i.e. 5-year) bonds\n",
    "* long short-term (i.e. 1-year) bonds\n",
    "\n",
    "See the Dynamic Tests of the EH in W.5. for more. This trade carries interest-rate risk, but those tests indicate it has positive expected PnL."
   ]
  },
  {
   "cell_type": "code",
   "execution_count": null,
   "metadata": {},
   "outputs": [],
   "source": []
  }
 ],
 "metadata": {
  "kernelspec": {
   "display_name": "hun",
   "language": "python",
   "name": "python3"
  },
  "language_info": {
   "codemirror_mode": {
    "name": "ipython",
    "version": 3
   },
   "file_extension": ".py",
   "mimetype": "text/x-python",
   "name": "python",
   "nbconvert_exporter": "python",
   "pygments_lexer": "ipython3",
   "version": "3.11.7"
  }
 },
 "nbformat": 4,
 "nbformat_minor": 2
}
