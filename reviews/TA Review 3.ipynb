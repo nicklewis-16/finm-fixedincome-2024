{
 "cells": [
  {
   "cell_type": "markdown",
   "metadata": {},
   "source": [
    "# TA Review 3\n",
    "*1/30/2024*\n",
    "\n",
    "## FINM 37400 - 2024\n",
    "\n",
    "### UChicago Financial Mathematics\n",
    "\n",
    "* Jordan Sacks\n",
    "* jordansacks@uchicago.edu"
   ]
  },
  {
   "cell_type": "markdown",
   "metadata": {},
   "source": [
    "### Agenda\n",
    "- Forward Rates\n",
    "- Forward Contracts\n",
    "- Forward Rate Agreements"
   ]
  },
  {
   "cell_type": "markdown",
   "metadata": {},
   "source": [
    "#### Libraries"
   ]
  },
  {
   "cell_type": "code",
   "execution_count": 2,
   "metadata": {},
   "outputs": [],
   "source": [
    "import pandas as pd\n",
    "import numpy as np\n",
    "import datetime\n",
    "import warnings\n",
    "warnings.filterwarnings('ignore',category=FutureWarning)\n",
    "\n",
    "from sklearn.linear_model import LinearRegression\n",
    "from sklearn.decomposition import PCA\n",
    "from scipy.optimize import minimize\n",
    "\n",
    "import matplotlib.pyplot as plt\n",
    "%matplotlib inline\n",
    "plt.rcParams['figure.figsize'] = (12,6)\n",
    "plt.rcParams['font.size'] = 15\n",
    "plt.rcParams['legend.fontsize'] = 13\n",
    "\n",
    "from matplotlib.ticker import (MultipleLocator,\n",
    "                               FormatStrFormatter,\n",
    "                               AutoMinorLocator)\n",
    "import sys\n",
    "sys.path.insert(0, '../cmds')\n",
    "from treasury_cmds import *"
   ]
  },
  {
   "cell_type": "markdown",
   "metadata": {},
   "source": [
    "### Forwards"
   ]
  },
  {
   "cell_type": "markdown",
   "metadata": {},
   "source": [
    "#### Definition\n",
    "Forward Rates are the market expectation of the rate between two future time periods. Things to remember:\n",
    "- the time period can be anything in the future. For example, the overnight rate in 1 year from now.\n",
    "- A given term structure of spot rates implies a specific term structure of forward rates\n",
    "- there is a forward rate market. It is over the counter (OTC) and thus participants can trade forwards over any time period. \n",
    "- market participants are usually large financial institutions with clear cash inflows and outflows. Imagine you are a real estate property owner with rental units all around the city and every month you receive rent from tenants. If you want to start construction of a new property in 1 year and lock in the rates that you could receive starting next month until construction begins, then you can buy a forward! "
   ]
  },
  {
   "cell_type": "markdown",
   "metadata": {},
   "source": [
    "#### Forward Rate Formula"
   ]
  },
  {
   "cell_type": "markdown",
   "metadata": {},
   "source": [
    "$$ (1+f_{m,n})^{n-m} = \\frac{(1+s_{n})^{n}}{(1+s_{m})^{m}}$$"
   ]
  },
  {
   "cell_type": "markdown",
   "metadata": {},
   "source": [
    "#### Pricing via Replication"
   ]
  },
  {
   "cell_type": "markdown",
   "metadata": {},
   "source": [
    "The forward rate is the interest rate for a loan between any two dates in the future, contracted today. Any forward rate can be \"locked in\" today by:\n",
    "- BUY one unit of the n-year zero coupon bond at price\n",
    "$ P_{n} = \\frac{100}{(1 + s_{n})^{n}} $\n",
    "- SELL $\\frac{P_{n}}{P_{m}}$ units of the m-year zero bond at price\n",
    "$ P_{m} = \\frac{100}{(1 + s_{m})^{m}} $\n",
    "- This ratio requires no net investment today because both the cash inflow and cash outflow amount to $P_{n}$"
   ]
  },
  {
   "cell_type": "markdown",
   "metadata": {},
   "source": [
    "#### Data Example Through Replication\n",
    "Lets assume the following using zero-coupon treasuries:"
   ]
  },
  {
   "cell_type": "code",
   "execution_count": 3,
   "metadata": {},
   "outputs": [
    {
     "name": "stdout",
     "output_type": "stream",
     "text": [
      "Implied Forward Rate: 10.20%\n"
     ]
    }
   ],
   "source": [
    "# Maturities\n",
    "t1 = 1\n",
    "t2 = 2\n",
    "\n",
    "# Current Spot Rates\n",
    "s1 = .06\n",
    "s2 = .0808\n",
    "\n",
    "# Implied Forward Rate\n",
    "f12 = (1+s2)**t2 / (1+s1)**t1 - 1\n",
    "print(f\"Implied Forward Rate: {f12:.02%}\")"
   ]
  },
  {
   "cell_type": "markdown",
   "metadata": {},
   "source": [
    "Now lets assume this implied forward rate is exactly realized in one year from now (t=0) meaning the forward rate in 1 year becomes the spot rate for 1 year from then. Therefore, the value of the 2y zero-coupon bond"
   ]
  },
  {
   "cell_type": "code",
   "execution_count": 4,
   "metadata": {},
   "outputs": [
    {
     "name": "stdout",
     "output_type": "stream",
     "text": [
      "2Y Value at t=1: 90.74\n"
     ]
    }
   ],
   "source": [
    "p2_t1 = 100 / (1+f12)**1\n",
    "print(f\"2Y Value at t=1: {p2_t1:.02f}\")"
   ]
  },
  {
   "cell_type": "markdown",
   "metadata": {},
   "source": [
    "Today, the value of the 2Y is (based on current spot rates)"
   ]
  },
  {
   "cell_type": "code",
   "execution_count": 5,
   "metadata": {},
   "outputs": [
    {
     "name": "stdout",
     "output_type": "stream",
     "text": [
      "2Y Value at t=0: 85.61\n"
     ]
    }
   ],
   "source": [
    "p2_t0 = 100 / (1+s2)**t2\n",
    "print(f\"2Y Value at t=0: {p2_t0:.02f}\")"
   ]
  },
  {
   "cell_type": "markdown",
   "metadata": {},
   "source": [
    "To show that the implied forward perfectly replicates the information from the spot curves, lets calculate the return over the first year. We will see that the return is exactly equal to today's 1y spot rate"
   ]
  },
  {
   "cell_type": "code",
   "execution_count": 6,
   "metadata": {},
   "outputs": [
    {
     "name": "stdout",
     "output_type": "stream",
     "text": [
      "2Y Return from T=1 to T=2:  6.00%\n"
     ]
    }
   ],
   "source": [
    "print(f\"2Y Return from T=1 to T=2: {p2_t1 / p2_t0 - 1 : .02%}\")"
   ]
  },
  {
   "cell_type": "markdown",
   "metadata": {},
   "source": [
    "Therefore, the implied forward rate is the break-even rate of the future 1y spot rate."
   ]
  },
  {
   "attachments": {
    "image.png": {
     "image/png": "[encoded data removed]"
    }
   },
   "cell_type": "markdown",
   "metadata": {},
   "source": [
    "#### Holding a Forward\n",
    "![image.png](attachment:image.png)"
   ]
  },
  {
   "cell_type": "markdown",
   "metadata": {},
   "source": [
    "- At initialization, there is no value. But as time goes on, there is a value to if the rate you locked in at T=0 is more valuable / less valuable at T=t"
   ]
  },
  {
   "cell_type": "markdown",
   "metadata": {},
   "source": [
    "#### Forwards and Spot Curves (Extracting Forward Curve from Spot Curve)"
   ]
  },
  {
   "cell_type": "code",
   "execution_count": 53,
   "metadata": {},
   "outputs": [
    {
     "data": {
      "image/png": "[encoded data removed]",
      "text/plain": [
       "<Figure size 864x432 with 1 Axes>"
      ]
     },
     "metadata": {
      "needs_background": "light"
     },
     "output_type": "display_data"
    }
   ],
   "source": [
    "# Set parameters\n",
    "qdate = '2023-11-30'\n",
    "MODEL = nelson_siegel\n",
    "DELTA = .5 # grid spacing of the maturities of the spot curve\n",
    "MULT = 1 # Difference in maturities to calculate forward rates on times the Delta\n",
    "\n",
    "# The MULT parameter allows for the forward rate interval, (T2-T1) to differ from the spot curve grid length. \n",
    "# Example: MULT = 2 and DELTA=0.5 would show forward rates calculated over 2*0.5 = 1.0 year intervals.\n",
    "\n",
    "# Extract Spot Curve and then Calculate Forward\n",
    "curve_set = dict()\n",
    "curve_set[qdate] = extract_spot_curves(qdate, \n",
    "                                       model=MODEL, \n",
    "                                       delta_maturity=DELTA, \n",
    "                                       calc_forward=True, \n",
    "                                       delta_forward_multiple=MULT)\n",
    "\n",
    "curves_set = pd.concat(curve_set,axis=1,names=['quote date','curves'])\n",
    "\n",
    "# Initialize the first value of the forward at 0 (and the spot rate so the graph looks okay)\n",
    "curves_set.iloc[0,:] = np.nan\n",
    "curves = curves_set[qdate]\n",
    "\n",
    "label_title = f'Forward Rate Curve: $f(0\\, ,T,\\,T+{DELTA})$'\n",
    "curves[['spot rate','forward rate']].plot(title=label_title, xlabel='$T$')\n",
    "plt.show()"
   ]
  },
  {
   "cell_type": "code",
   "execution_count": 54,
   "metadata": {},
   "outputs": [
    {
     "data": {
      "text/html": [
       "<div>\n",
       "<style scoped>\n",
       "    .dataframe tbody tr th:only-of-type {\n",
       "        vertical-align: middle;\n",
       "    }\n",
       "\n",
       "    .dataframe tbody tr th {\n",
       "        vertical-align: top;\n",
       "    }\n",
       "\n",
       "    .dataframe thead tr th {\n",
       "        text-align: left;\n",
       "    }\n",
       "\n",
       "    .dataframe thead tr:last-of-type th {\n",
       "        text-align: right;\n",
       "    }\n",
       "</style>\n",
       "<table border=\"1\" class=\"dataframe\">\n",
       "  <thead>\n",
       "    <tr>\n",
       "      <th>quote date</th>\n",
       "      <th colspan=\"4\" halign=\"left\">2023-11-30</th>\n",
       "    </tr>\n",
       "    <tr>\n",
       "      <th>curves</th>\n",
       "      <th>spot rate</th>\n",
       "      <th>spot discount</th>\n",
       "      <th>forward rate</th>\n",
       "      <th>forward discount</th>\n",
       "    </tr>\n",
       "    <tr>\n",
       "      <th>maturity</th>\n",
       "      <th></th>\n",
       "      <th></th>\n",
       "      <th></th>\n",
       "      <th></th>\n",
       "    </tr>\n",
       "  </thead>\n",
       "  <tbody>\n",
       "    <tr>\n",
       "      <th>0.01</th>\n",
       "      <td>NaN</td>\n",
       "      <td>NaN</td>\n",
       "      <td>NaN</td>\n",
       "      <td>NaN</td>\n",
       "    </tr>\n",
       "    <tr>\n",
       "      <th>0.50</th>\n",
       "      <td>0.054869</td>\n",
       "      <td>0.972938</td>\n",
       "      <td>0.053656</td>\n",
       "      <td>0.973529</td>\n",
       "    </tr>\n",
       "    <tr>\n",
       "      <th>1.00</th>\n",
       "      <td>0.050682</td>\n",
       "      <td>0.950581</td>\n",
       "      <td>0.046494</td>\n",
       "      <td>0.977021</td>\n",
       "    </tr>\n",
       "    <tr>\n",
       "      <th>1.50</th>\n",
       "      <td>0.047765</td>\n",
       "      <td>0.930860</td>\n",
       "      <td>0.041930</td>\n",
       "      <td>0.979253</td>\n",
       "    </tr>\n",
       "    <tr>\n",
       "      <th>2.00</th>\n",
       "      <td>0.045769</td>\n",
       "      <td>0.912527</td>\n",
       "      <td>0.039781</td>\n",
       "      <td>0.980306</td>\n",
       "    </tr>\n",
       "  </tbody>\n",
       "</table>\n",
       "</div>"
      ],
      "text/plain": [
       "quote date 2023-11-30                                            \n",
       "curves      spot rate spot discount forward rate forward discount\n",
       "maturity                                                         \n",
       "0.01              NaN           NaN          NaN              NaN\n",
       "0.50         0.054869      0.972938     0.053656         0.973529\n",
       "1.00         0.050682      0.950581     0.046494         0.977021\n",
       "1.50         0.047765      0.930860     0.041930         0.979253\n",
       "2.00         0.045769      0.912527     0.039781         0.980306"
      ]
     },
     "execution_count": 54,
     "metadata": {},
     "output_type": "execute_result"
    }
   ],
   "source": [
    "curves_set.head()"
   ]
  },
  {
   "cell_type": "markdown",
   "metadata": {},
   "source": [
    "**Notes** <br>\n",
    "The forward curve is like the derivative of the spot curve. \n",
    "Whenever the forward curve is ABOVE the spot curve, the spot curve is RISING\n",
    "Whenever the forward curve is BELOW the spot curve, the spot curve is FALLING\n",
    "\n",
    "The forward curve is showing the rate you can lock in today from t -> t+0.5 <br>\n",
    "Spot Rate is showing what rate you should earn from t=0 till T whereas forward curve is just a 6mo timeframe"
   ]
  },
  {
   "cell_type": "markdown",
   "metadata": {},
   "source": [
    "#### Issues with Extracting Spot Curves from Forward Curves or Vice Versa"
   ]
  },
  {
   "cell_type": "markdown",
   "metadata": {},
   "source": [
    "Given that the forward curve is a derivative of the spot curve, a small measurement error in the spot curve may lead to large measurement error in the forward curve.\n"
   ]
  },
  {
   "cell_type": "markdown",
   "metadata": {},
   "source": [
    "Therefore, assuming we extract the forward from the spot curve, which tends to be less smooth?\n",
    "- Forward curves tend to be less smooth than spot curves. In particular, this was relevant in that even if OLS extracts a reasonably behaved spot curve, it often implies an unreasonably behaved forward curve."
   ]
  },
  {
   "cell_type": "markdown",
   "metadata": {},
   "source": [
    "#### Example with Different Maturities (2023 Final Exam Question)"
   ]
  },
  {
   "cell_type": "code",
   "execution_count": 9,
   "metadata": {},
   "outputs": [],
   "source": [
    "# Get Treasury Quotes\n",
    "filepath = '../data/selected_treasury_quotes_2022-12-30.xlsx'\n",
    "quotes = pd.read_excel(filepath, sheet_name='quotes').set_index('KYTREASNO')\n",
    "\n",
    "# Build Cashflow Matrix\n",
    "QUOTE_DATE = '2022-12-30'\n",
    "t_date = pd.to_datetime(QUOTE_DATE)\n",
    "\n",
    "CF = pd.DataFrame(data=0, index=quotes.index, columns=quotes['maturity date'])\n",
    "\n",
    "for i in quotes.index:\n",
    "    coupon_dates = get_coupon_dates(t_date,pd.to_datetime(quotes.loc[i,'maturity date']))\n",
    "\n",
    "    if coupon_dates is not None:\n",
    "        CF.loc[i,coupon_dates] = quotes.loc[i,'coupon rate']/2\n",
    "\n",
    "    CF.loc[i,quotes.loc[i,'maturity date']] += 100\n",
    "\n",
    "# \n",
    "CF = CF.resample('m',axis=1).sum()\n",
    "CF.drop(columns=CF.columns[(CF==0).all()],inplace=True)\n",
    "CF = CF.fillna(0).sort_index(axis=1)\n",
    "\n",
    "# Bootstrap Spot Curve Discount Factors\n",
    "COMPOUNDING = 2\n",
    "spot = pd.DataFrame(np.linalg.solve(CF,quotes['price'].loc[CF.index]), index=CF.index, columns=['discount factor'])\n",
    "spot.insert(0,'maturity',quotes['maturity'])\n",
    "spot = spot.reset_index(drop=True).set_index('maturity')\n",
    "\n",
    "# Get Spot Rates\n",
    "spot['semiannual'] = discount_to_intrate(spot['discount factor'], spot.index, n_compound=COMPOUNDING)\n",
    "spot['continuous'] = discount_to_intrate(spot['discount factor'], spot.index, n_compound=None)\n"
   ]
  },
  {
   "cell_type": "code",
   "execution_count": 10,
   "metadata": {},
   "outputs": [
    {
     "data": {
      "text/html": [
       "<div>\n",
       "<style scoped>\n",
       "    .dataframe tbody tr th:only-of-type {\n",
       "        vertical-align: middle;\n",
       "    }\n",
       "\n",
       "    .dataframe tbody tr th {\n",
       "        vertical-align: top;\n",
       "    }\n",
       "\n",
       "    .dataframe thead th {\n",
       "        text-align: right;\n",
       "    }\n",
       "</style>\n",
       "<table border=\"1\" class=\"dataframe\">\n",
       "  <thead>\n",
       "    <tr style=\"text-align: right;\">\n",
       "      <th>maturity date</th>\n",
       "      <th>2023-06-30</th>\n",
       "      <th>2023-12-31</th>\n",
       "      <th>2024-06-30</th>\n",
       "      <th>2024-12-31</th>\n",
       "      <th>2025-06-30</th>\n",
       "      <th>2025-12-31</th>\n",
       "      <th>2026-06-30</th>\n",
       "      <th>2026-12-31</th>\n",
       "      <th>2027-06-30</th>\n",
       "      <th>2027-12-31</th>\n",
       "    </tr>\n",
       "    <tr>\n",
       "      <th>KYTREASNO</th>\n",
       "      <th></th>\n",
       "      <th></th>\n",
       "      <th></th>\n",
       "      <th></th>\n",
       "      <th></th>\n",
       "      <th></th>\n",
       "      <th></th>\n",
       "      <th></th>\n",
       "      <th></th>\n",
       "      <th></th>\n",
       "    </tr>\n",
       "  </thead>\n",
       "  <tbody>\n",
       "    <tr>\n",
       "      <th>206990</th>\n",
       "      <td>100.6875</td>\n",
       "      <td>0.000</td>\n",
       "      <td>0.000</td>\n",
       "      <td>0.000</td>\n",
       "      <td>0.000</td>\n",
       "      <td>0.0</td>\n",
       "      <td>0.0</td>\n",
       "      <td>0.0</td>\n",
       "      <td>0.0</td>\n",
       "      <td>0.0</td>\n",
       "    </tr>\n",
       "    <tr>\n",
       "      <th>207047</th>\n",
       "      <td>1.1250</td>\n",
       "      <td>101.125</td>\n",
       "      <td>0.000</td>\n",
       "      <td>0.000</td>\n",
       "      <td>0.000</td>\n",
       "      <td>0.0</td>\n",
       "      <td>0.0</td>\n",
       "      <td>0.0</td>\n",
       "      <td>0.0</td>\n",
       "      <td>0.0</td>\n",
       "    </tr>\n",
       "    <tr>\n",
       "      <th>207374</th>\n",
       "      <td>0.8750</td>\n",
       "      <td>0.875</td>\n",
       "      <td>100.875</td>\n",
       "      <td>0.000</td>\n",
       "      <td>0.000</td>\n",
       "      <td>0.0</td>\n",
       "      <td>0.0</td>\n",
       "      <td>0.0</td>\n",
       "      <td>0.0</td>\n",
       "      <td>0.0</td>\n",
       "    </tr>\n",
       "    <tr>\n",
       "      <th>207166</th>\n",
       "      <td>1.1250</td>\n",
       "      <td>1.125</td>\n",
       "      <td>1.125</td>\n",
       "      <td>101.125</td>\n",
       "      <td>0.000</td>\n",
       "      <td>0.0</td>\n",
       "      <td>0.0</td>\n",
       "      <td>0.0</td>\n",
       "      <td>0.0</td>\n",
       "      <td>0.0</td>\n",
       "    </tr>\n",
       "    <tr>\n",
       "      <th>207224</th>\n",
       "      <td>1.3750</td>\n",
       "      <td>1.375</td>\n",
       "      <td>1.375</td>\n",
       "      <td>1.375</td>\n",
       "      <td>101.375</td>\n",
       "      <td>0.0</td>\n",
       "      <td>0.0</td>\n",
       "      <td>0.0</td>\n",
       "      <td>0.0</td>\n",
       "      <td>0.0</td>\n",
       "    </tr>\n",
       "  </tbody>\n",
       "</table>\n",
       "</div>"
      ],
      "text/plain": [
       "maturity date  2023-06-30  2023-12-31  2024-06-30  2024-12-31  2025-06-30  \\\n",
       "KYTREASNO                                                                   \n",
       "206990           100.6875       0.000       0.000       0.000       0.000   \n",
       "207047             1.1250     101.125       0.000       0.000       0.000   \n",
       "207374             0.8750       0.875     100.875       0.000       0.000   \n",
       "207166             1.1250       1.125       1.125     101.125       0.000   \n",
       "207224             1.3750       1.375       1.375       1.375     101.375   \n",
       "\n",
       "maturity date  2025-12-31  2026-06-30  2026-12-31  2027-06-30  2027-12-31  \n",
       "KYTREASNO                                                                  \n",
       "206990                0.0         0.0         0.0         0.0         0.0  \n",
       "207047                0.0         0.0         0.0         0.0         0.0  \n",
       "207374                0.0         0.0         0.0         0.0         0.0  \n",
       "207166                0.0         0.0         0.0         0.0         0.0  \n",
       "207224                0.0         0.0         0.0         0.0         0.0  "
      ]
     },
     "execution_count": 10,
     "metadata": {},
     "output_type": "execute_result"
    }
   ],
   "source": [
    "CF.head()"
   ]
  },
  {
   "cell_type": "code",
   "execution_count": 11,
   "metadata": {},
   "outputs": [
    {
     "data": {
      "text/html": [
       "<div>\n",
       "<style scoped>\n",
       "    .dataframe tbody tr th:only-of-type {\n",
       "        vertical-align: middle;\n",
       "    }\n",
       "\n",
       "    .dataframe tbody tr th {\n",
       "        vertical-align: top;\n",
       "    }\n",
       "\n",
       "    .dataframe thead th {\n",
       "        text-align: right;\n",
       "    }\n",
       "</style>\n",
       "<table border=\"1\" class=\"dataframe\">\n",
       "  <thead>\n",
       "    <tr style=\"text-align: right;\">\n",
       "      <th></th>\n",
       "      <th>discount factor</th>\n",
       "      <th>semiannual</th>\n",
       "      <th>continuous</th>\n",
       "    </tr>\n",
       "    <tr>\n",
       "      <th>maturity</th>\n",
       "      <th></th>\n",
       "      <th></th>\n",
       "      <th></th>\n",
       "    </tr>\n",
       "  </thead>\n",
       "  <tbody>\n",
       "    <tr>\n",
       "      <th>0.498289</th>\n",
       "      <td>0.977886</td>\n",
       "      <td>0.045384</td>\n",
       "      <td>0.044877</td>\n",
       "    </tr>\n",
       "    <tr>\n",
       "      <th>1.002053</th>\n",
       "      <td>0.954124</td>\n",
       "      <td>0.047419</td>\n",
       "      <td>0.046865</td>\n",
       "    </tr>\n",
       "    <tr>\n",
       "      <th>1.500342</th>\n",
       "      <td>0.933443</td>\n",
       "      <td>0.046437</td>\n",
       "      <td>0.045907</td>\n",
       "    </tr>\n",
       "    <tr>\n",
       "      <th>2.004107</th>\n",
       "      <td>0.916052</td>\n",
       "      <td>0.044233</td>\n",
       "      <td>0.043751</td>\n",
       "    </tr>\n",
       "    <tr>\n",
       "      <th>2.499658</th>\n",
       "      <td>0.899927</td>\n",
       "      <td>0.042630</td>\n",
       "      <td>0.042182</td>\n",
       "    </tr>\n",
       "  </tbody>\n",
       "</table>\n",
       "</div>"
      ],
      "text/plain": [
       "          discount factor  semiannual  continuous\n",
       "maturity                                         \n",
       "0.498289         0.977886    0.045384    0.044877\n",
       "1.002053         0.954124    0.047419    0.046865\n",
       "1.500342         0.933443    0.046437    0.045907\n",
       "2.004107         0.916052    0.044233    0.043751\n",
       "2.499658         0.899927    0.042630    0.042182"
      ]
     },
     "execution_count": 11,
     "metadata": {},
     "output_type": "execute_result"
    }
   ],
   "source": [
    "spot.head()"
   ]
  },
  {
   "cell_type": "markdown",
   "metadata": {},
   "source": [
    "Based on the below spot rate curve (in blue), is the forward curve going to be below or above the spot curve?"
   ]
  },
  {
   "cell_type": "code",
   "execution_count": 15,
   "metadata": {},
   "outputs": [
    {
     "data": {
      "image/png": "[encoded data removed]",
      "text/plain": [
       "<Figure size 864x432 with 1 Axes>"
      ]
     },
     "metadata": {
      "needs_background": "light"
     },
     "output_type": "display_data"
    }
   ],
   "source": [
    "spot['semiannual'].plot(title='rate')\n",
    "plt.tight_layout()\n",
    "plt.show()"
   ]
  },
  {
   "cell_type": "markdown",
   "metadata": {},
   "source": [
    "The spot curve is decreasing over the long rates.\n",
    "\n",
    "Thus, we know the forward curve must be below the spot curve at the long end."
   ]
  },
  {
   "cell_type": "markdown",
   "metadata": {},
   "source": [
    "##### <span style=\"color:red\">Forward Rate Question</span>\n",
    "Calculate and report the continuously-compounded forward-rate curve, $f(t,T,T+1)$, for $0\\le T \\le 4$.\n",
    "\n",
    "Also report the forward rate, $f(t,T_1,T_2)$, for $T_1=3, T_2=5$.\n",
    "\n",
    "##### <span style=\"color:red\">SOLUTION</span>\n",
    "\n",
    "##### Interval\n",
    "The question asks for forward interval equal to one year, (2 \"periods\" of six months each.)\n",
    "\n",
    "The question in HW 4 asked about a forward interval of just half a year. So repeating that code would lead to a wrong answer.\n",
    "\n",
    "The code below accounts for this with the variable `FORWARD_INTERVAL`, which is expressed in number of periods, not number of years. Thus, an interval of one year is a `FORWARD_INTERVAL=2`.\n",
    "\n",
    "##### Compounding\n",
    "The question asks for a **continuously** compounded forward. \n",
    "\n",
    "**Forward Discount Factors** <br> <br>\n",
    "$\\begin{align}\n",
    "F(t,T_1,T_2) = \\frac{Z(t,T_2)}{Z(t,T_1)}\n",
    "\\end{align}$\n",
    "\n",
    "\n",
    "**Forward Discount Rate** \n",
    "\n",
    "$\\begin{align}\n",
    "f(t,T_1,T_2) \\equiv & \\quad -\\frac{\\ln\\left\\{F(t,T_1,T_2)\\right\\}}{T_2-T_1}\\\\[6pt]\n",
    "\\end{align}$\n"
   ]
  },
  {
   "cell_type": "code",
   "execution_count": 55,
   "metadata": {},
   "outputs": [
    {
     "data": {
      "text/html": [
       "<div>\n",
       "<style scoped>\n",
       "    .dataframe tbody tr th:only-of-type {\n",
       "        vertical-align: middle;\n",
       "    }\n",
       "\n",
       "    .dataframe tbody tr th {\n",
       "        vertical-align: top;\n",
       "    }\n",
       "\n",
       "    .dataframe thead th {\n",
       "        text-align: right;\n",
       "    }\n",
       "</style>\n",
       "<table border=\"1\" class=\"dataframe\">\n",
       "  <thead>\n",
       "    <tr style=\"text-align: right;\">\n",
       "      <th></th>\n",
       "      <th>discount factor</th>\n",
       "      <th>continuous</th>\n",
       "    </tr>\n",
       "    <tr>\n",
       "      <th>maturity</th>\n",
       "      <th></th>\n",
       "      <th></th>\n",
       "    </tr>\n",
       "  </thead>\n",
       "  <tbody>\n",
       "    <tr>\n",
       "      <th>0.498289</th>\n",
       "      <td>NaN</td>\n",
       "      <td>NaN</td>\n",
       "    </tr>\n",
       "    <tr>\n",
       "      <th>1.002053</th>\n",
       "      <td>0.954124</td>\n",
       "      <td>0.046961</td>\n",
       "    </tr>\n",
       "    <tr>\n",
       "      <th>1.500342</th>\n",
       "      <td>0.954551</td>\n",
       "      <td>0.046514</td>\n",
       "    </tr>\n",
       "    <tr>\n",
       "      <th>2.004107</th>\n",
       "      <td>0.960097</td>\n",
       "      <td>0.040721</td>\n",
       "    </tr>\n",
       "    <tr>\n",
       "      <th>2.499658</th>\n",
       "      <td>0.964095</td>\n",
       "      <td>0.036566</td>\n",
       "    </tr>\n",
       "    <tr>\n",
       "      <th>3.003422</th>\n",
       "      <td>0.964307</td>\n",
       "      <td>0.036346</td>\n",
       "    </tr>\n",
       "    <tr>\n",
       "      <th>3.498973</th>\n",
       "      <td>0.962825</td>\n",
       "      <td>0.037883</td>\n",
       "    </tr>\n",
       "    <tr>\n",
       "      <th>4.002738</th>\n",
       "      <td>0.962372</td>\n",
       "      <td>0.038354</td>\n",
       "    </tr>\n",
       "    <tr>\n",
       "      <th>4.498289</th>\n",
       "      <td>0.964062</td>\n",
       "      <td>0.036600</td>\n",
       "    </tr>\n",
       "    <tr>\n",
       "      <th>5.002053</th>\n",
       "      <td>0.965763</td>\n",
       "      <td>0.034836</td>\n",
       "    </tr>\n",
       "  </tbody>\n",
       "</table>\n",
       "</div>"
      ],
      "text/plain": [
       "          discount factor  continuous\n",
       "maturity                             \n",
       "0.498289              NaN         NaN\n",
       "1.002053         0.954124    0.046961\n",
       "1.500342         0.954551    0.046514\n",
       "2.004107         0.960097    0.040721\n",
       "2.499658         0.964095    0.036566\n",
       "3.003422         0.964307    0.036346\n",
       "3.498973         0.962825    0.037883\n",
       "4.002738         0.962372    0.038354\n",
       "4.498289         0.964062    0.036600\n",
       "5.002053         0.965763    0.034836"
      ]
     },
     "execution_count": 55,
     "metadata": {},
     "output_type": "execute_result"
    }
   ],
   "source": [
    "FORWARD_INTERVAL = 2\n",
    "\n",
    "forward = pd.DataFrame(spot['discount factor']/spot['discount factor'].shift(FORWARD_INTERVAL),\n",
    "                       index=spot.index, \n",
    "                       columns=['discount factor'])\n",
    "\n",
    "forward['discount factor'].iloc[FORWARD_INTERVAL-1] = spot['discount factor'].iloc[FORWARD_INTERVAL-1]\n",
    "forward['continuous'] = -np.log(forward['discount factor']) / forward.index.to_series().diff(FORWARD_INTERVAL).mean()\n",
    "forward"
   ]
  },
  {
   "cell_type": "markdown",
   "metadata": {},
   "source": [
    "#### Two-year forward rate\n",
    "\n",
    "$F(t,T_1,T_2)$ and $f(t,T_1,T_2)$ for $T_1=3, T_2=5$."
   ]
  },
  {
   "cell_type": "code",
   "execution_count": 17,
   "metadata": {},
   "outputs": [
    {
     "data": {
      "text/html": [
       "<style type=\"text/css\">\n",
       "</style>\n",
       "<table id=\"T_04628_\">\n",
       "  <thead>\n",
       "    <tr>\n",
       "      <th class=\"blank level0\" >&nbsp;</th>\n",
       "      <th class=\"col_heading level0 col0\" >F</th>\n",
       "      <th class=\"col_heading level0 col1\" >f</th>\n",
       "    </tr>\n",
       "  </thead>\n",
       "  <tbody>\n",
       "    <tr>\n",
       "      <th id=\"T_04628_level0_row0\" class=\"row_heading level0 row0\" >T_1=3, T_2=5</th>\n",
       "      <td id=\"T_04628_row0_col0\" class=\"data row0 col0\" >0.929424</td>\n",
       "      <td id=\"T_04628_row0_col1\" class=\"data row0 col1\" >3.6595%</td>\n",
       "    </tr>\n",
       "  </tbody>\n",
       "</table>\n"
      ],
      "text/plain": [
       "<pandas.io.formats.style.Styler at 0x1b5127936c8>"
      ]
     },
     "execution_count": 17,
     "metadata": {},
     "output_type": "execute_result"
    }
   ],
   "source": [
    "FWD_INTERVAL = 4\n",
    "F_2 = spot['discount factor'].iloc[-1] / spot['discount factor'].iloc[-1-FWD_INTERVAL]\n",
    "f_2 = -np.log(F_2) / (FWD_INTERVAL/2)\n",
    "\n",
    "fwd_2 = pd.DataFrame(np.array([[F_2,f_2]]),index=['T_1=3, T_2=5'],columns=['F','f'])\n",
    "fwd_2.style.format({'F':'{:.6f}','f':'{:.4%}'})"
   ]
  },
  {
   "cell_type": "markdown",
   "metadata": {},
   "source": [
    "### Forward Contracts\n",
    "#### Definition\n",
    "A forward contract is an agreement to buy a bond with maturity $T$\n",
    "- at a specific time in the future, $T_0$\n",
    "- at a specific price, $P_{\\text{Fwd}}(t,T_0,T)$ <br>\n",
    "\n",
    "Essentially, I am going to contract today to buy a bond in the future\n",
    "\n",
    "#### Initalization\n",
    "The forward price is set such that there is no price to initiate the forward contract. \n",
    "* That is, the value to the contract is 0 at initialization\n",
    "\n",
    "#### Pricing\n",
    "\n",
    "Pricing forward contracts on treasuries is easy:\n",
    "* just use the discount $F(t,T_0,T)$ instead of $Z(t,T)$!\n",
    "* This means that we are essentially discounting the future cash flows but using forward discount factors because instead of discounting to T=0, we want to discount to T=1 for when we would be contracted to own the bond\n",
    "\n",
    "##### Zero coupon bond\n",
    "\n",
    "- Consider a zero-coupon bond maturing at $T$, with face value of 100.\n",
    "- Consider a forward contract, initialized at $t$ for purchase at $T_0$.\n",
    "\n",
    "$\\begin{align}\n",
    "P_{\\text{Fwd}}(t,T_0,T) = 100F(t,T_0,T)\n",
    "\\end{align}$\n",
    "\n",
    "##### Coupon bond\n",
    "Consider now that there are coupons at $T_i$, with final principal repaid at $T_n=T$.\n",
    "\n",
    "$\\begin{align}\n",
    "P_{\\text{Fwd}}(t,T_0,T) = 100\\frac{c}{2}\\sum_{i=1}^nF(t,T_0,T_i) + 100F(t,T_0,T)\n",
    "\\end{align}$\n",
    "\n",
    "#### Example:\n",
    "- A 10Y bond is trading a specific rate. You want to lock in the rate that it trades at starting next year when it has 9years left of maturity\n",
    "\n",
    "#### Uses\n",
    "- Hedging interest rate exposure\n",
    "- Speculation on term structure\n",
    "\n",
    "#### Notes\n",
    "- Pricing this uses the same information derived from the spot rate curve / forward rate curve or other rate information available today. It is all synthetized based on current treasury market data"
   ]
  },
  {
   "cell_type": "markdown",
   "metadata": {},
   "source": [
    "### Forward Rate Agreements (FRAs)"
   ]
  },
  {
   "cell_type": "markdown",
   "metadata": {},
   "source": [
    "#### Definition\n",
    "A forward rate agreement (FRA) is a cash-settled over-the-counter (OTC) contract between two counterparties, where the buyer is borrowing (and the seller is lending) a notional sum at a fixed interest rate (the FRA rate) and for a specified period starting at an agreed date in the future.\n",
    "- the party entering the FRA does not deposit the capital. Instead, the party entering the FRA pays the spot rate, $r(T_1,T_2)$, on the notional.\n",
    "\n",
    "The purpose of FRA is to lock in borrowing or a lending rate for some time in the future. Typically, it involves two parties exchanging a fixed interest rate for a floating rate.\n",
    "\n",
    "- The borrower: The long pays a fixed rate and receives floating rates. If SOFR rises, the long will gain.\n",
    "- The lender: The short pays a floating rate and receives a fixed rate. If SOFR falls, the short will gain. <br>\n",
    "\n",
    "The FRA buyer enters into the contract to protect itself from a **future** increase in interest rates; the seller of the FRA wants to protect itself from a future decline in interest rates.\n",
    "\n"
   ]
  },
  {
   "cell_type": "markdown",
   "metadata": {},
   "source": [
    "#### Uses\n",
    "- A FRA can be used to hedge future interest rate or exchange rate exposure.\n",
    "\n",
    "- The buyer hedges against the risk of rising interest rate whereas the seller hedges against the risk of falling interest rates. In other words, the buyer locks in the interest rate to protect against the increase of interest rates while the seller protects against the possible decrease of interest rates.\n",
    "\n",
    "- A speculator can also use FRAs to make bets on future directional changes in interest rates.\n",
    "\n",
    "- Market participants can also take advantage of price differences between an FRA and other interest rate instruments.\n"
   ]
  },
  {
   "cell_type": "markdown",
   "metadata": {},
   "source": [
    "#### Formulas\n",
    "\n",
    "##### Cashflow Amount\n",
    "The net receipt for the investor is, using a compounding frequency, $n$,\n",
    "\n",
    "$\\begin{align}\n",
    "& \\quad N \\Delta\\left[f_n(0,T_1,T_2)-r_n(T_1,T_2)\\right]\\\\[6pt]\n",
    "\\Delta \\equiv & \\quad T_2-T_1\\\\[6pt]\n",
    "N \\equiv & \\quad \\text{Notional Investment}\n",
    "\\end{align}$\n",
    "\n",
    "##### Ending Value\n",
    "The **value** of the FRA is the cashflow above, discounted by the appropriate spot discount factor, $Z(t,T)$.\n",
    "\n",
    "The result is the **following equation**:\n",
    "\n",
    "$\\begin{align}\n",
    "V_{\\text{FRA}}(t;0,T_1,T_2) = N\\Delta\\left[f_n(0,T_1,T_2)-f_n(t,T_1,T_2)\\right]Z(t,T_2)\n",
    "\\end{align}$"
   ]
  },
  {
   "cell_type": "markdown",
   "metadata": {},
   "source": [
    "#### Data Example of Valuing FRA\n",
    "\n",
    "Note that the price is a function of 4 dates:\n",
    "- $t=0$: initialization date of the forward\n",
    "- $T_1$: the date of the spot rate fix\n",
    "- $T_2$: the date of settlement\n",
    "- $t$: the date of the pricing\n",
    "\n",
    "\n",
    "#### Boundaries\n",
    "Note that \n",
    "- For $t=0$, the value is 0. That is, an FRA is set up such that no payment is required at initialization.\n",
    "- One could view this as the determining feature of the forward price.\n",
    "- For $t=T_2$, we get the value equals the net cashflow at maturity given above,\n",
    "\n",
    "$\\begin{align}\n",
    "V_{\\text{FRA}}(0;0,T_1,T_2) =& \\quad  N\\Delta\\left[f_n(0,T_1,T_2)-f_n(0,T_1,T_2)\\right]Z(0,T_2) = 0\\\\ \n",
    "V_{\\text{FRA}}(T_2;0,T_1,T_2) =& \\quad N \\Delta\\left[f_n(0,T_1,T_2) - r_n(T_1,T_2)\\right]\n",
    "\\end{align}$"
   ]
  },
  {
   "cell_type": "code",
   "execution_count": 40,
   "metadata": {},
   "outputs": [],
   "source": [
    "# Set Parameters\n",
    "t0 = '2023-05-15'\n",
    "t = '2023-07-26'\n",
    "T1 = '2023-11-15'\n",
    "T2 = '2024-05-15'\n",
    "MODEL = nelson_siegel\n",
    "DELTA = .5 # Difference between t0 and T1\n",
    "MULT = 1 "
   ]
  },
  {
   "cell_type": "code",
   "execution_count": 41,
   "metadata": {},
   "outputs": [
    {
     "data": {
      "text/html": [
       "<div>\n",
       "<style scoped>\n",
       "    .dataframe tbody tr th:only-of-type {\n",
       "        vertical-align: middle;\n",
       "    }\n",
       "\n",
       "    .dataframe tbody tr th {\n",
       "        vertical-align: top;\n",
       "    }\n",
       "\n",
       "    .dataframe thead th {\n",
       "        text-align: right;\n",
       "    }\n",
       "</style>\n",
       "<table border=\"1\" class=\"dataframe\">\n",
       "  <thead>\n",
       "    <tr style=\"text-align: right;\">\n",
       "      <th>2023-07-26</th>\n",
       "      <th>spot rate</th>\n",
       "      <th>spot discount</th>\n",
       "      <th>forward rate</th>\n",
       "      <th>forward discount</th>\n",
       "    </tr>\n",
       "    <tr>\n",
       "      <th>maturity</th>\n",
       "      <th></th>\n",
       "      <th></th>\n",
       "      <th></th>\n",
       "      <th></th>\n",
       "    </tr>\n",
       "  </thead>\n",
       "  <tbody>\n",
       "    <tr>\n",
       "      <th>0.01</th>\n",
       "      <td>0.062153</td>\n",
       "      <td>0.999379</td>\n",
       "      <td>0.001243</td>\n",
       "      <td>0.999379</td>\n",
       "    </tr>\n",
       "    <tr>\n",
       "      <th>0.25</th>\n",
       "      <td>0.059666</td>\n",
       "      <td>0.985194</td>\n",
       "      <td>0.029833</td>\n",
       "      <td>0.985194</td>\n",
       "    </tr>\n",
       "    <tr>\n",
       "      <th>0.50</th>\n",
       "      <td>0.057343</td>\n",
       "      <td>0.971736</td>\n",
       "      <td>0.056100</td>\n",
       "      <td>0.972340</td>\n",
       "    </tr>\n",
       "    <tr>\n",
       "      <th>0.75</th>\n",
       "      <td>0.055264</td>\n",
       "      <td>0.959399</td>\n",
       "      <td>0.053063</td>\n",
       "      <td>0.973818</td>\n",
       "    </tr>\n",
       "    <tr>\n",
       "      <th>1.00</th>\n",
       "      <td>0.053405</td>\n",
       "      <td>0.947996</td>\n",
       "      <td>0.049466</td>\n",
       "      <td>0.975570</td>\n",
       "    </tr>\n",
       "  </tbody>\n",
       "</table>\n",
       "</div>"
      ],
      "text/plain": [
       "2023-07-26  spot rate  spot discount  forward rate  forward discount\n",
       "maturity                                                            \n",
       "0.01         0.062153       0.999379      0.001243          0.999379\n",
       "0.25         0.059666       0.985194      0.029833          0.985194\n",
       "0.50         0.057343       0.971736      0.056100          0.972340\n",
       "0.75         0.055264       0.959399      0.053063          0.973818\n",
       "1.00         0.053405       0.947996      0.049466          0.975570"
      ]
     },
     "execution_count": 41,
     "metadata": {},
     "output_type": "execute_result"
    }
   ],
   "source": [
    "# Extract spot curve and calculate forward curve\n",
    "curve_interim = extract_spot_curves(t, model=MODEL, delta_maturity=.25, calc_forward=True, delta_forward_multiple=2)\n",
    "curve_interim.head()\n"
   ]
  },
  {
   "cell_type": "code",
   "execution_count": 42,
   "metadata": {},
   "outputs": [
    {
     "data": {
      "text/plain": [
       "0.00919206834274238"
      ]
     },
     "execution_count": 42,
     "metadata": {},
     "output_type": "execute_result"
    }
   ],
   "source": [
    "# Calculate FRA value at T=t\n",
    "'''\n",
    "-Calculate difference in forward rates multiplied by spot discount factor\n",
    "-Difference of forward rates is T2 - T1\n",
    "-Spot Discount Factor is assuming Z(t, T2)\n",
    "'''\n",
    "\n",
    "fra = DELTA * MULT * (curve_set[QUOTE_DATE].loc[.5,'forward rate'] - curve_interim.loc[.25,'forward rate']) * curve_interim.loc[.75,'spot discount']\n",
    "fra"
   ]
  },
  {
   "cell_type": "code",
   "execution_count": 45,
   "metadata": {},
   "outputs": [
    {
     "data": {
      "text/plain": [
       "-0.004173756108705254"
      ]
     },
     "execution_count": 45,
     "metadata": {},
     "output_type": "execute_result"
    }
   ],
   "source": [
    "# Calculate hypothetical FRA value at T=T2\n",
    "'''\n",
    "-Calculate difference in forward rate vs spot rate at T2\n",
    "-No need to discount because we are at T2\n",
    "'''\n",
    "fra_hypothetical = DELTA * MULT * (curve_set[QUOTE_DATE].loc[.5,'forward rate'] - curve_interim.loc[.5,'spot rate'])\n",
    "fra_hypothetical"
   ]
  },
  {
   "cell_type": "code",
   "execution_count": 46,
   "metadata": {},
   "outputs": [
    {
     "data": {
      "text/html": [
       "<div>\n",
       "<style scoped>\n",
       "    .dataframe tbody tr th:only-of-type {\n",
       "        vertical-align: middle;\n",
       "    }\n",
       "\n",
       "    .dataframe tbody tr th {\n",
       "        vertical-align: top;\n",
       "    }\n",
       "\n",
       "    .dataframe thead th {\n",
       "        text-align: right;\n",
       "    }\n",
       "</style>\n",
       "<table border=\"1\" class=\"dataframe\">\n",
       "  <thead>\n",
       "    <tr style=\"text-align: right;\">\n",
       "      <th></th>\n",
       "      <th>2023-07-26</th>\n",
       "      <th>Hypothetical: 2023-11-15</th>\n",
       "    </tr>\n",
       "  </thead>\n",
       "  <tbody>\n",
       "    <tr>\n",
       "      <th>$f(0,T_1,T_2)$</th>\n",
       "      <td>0.048995</td>\n",
       "      <td>0.048995</td>\n",
       "    </tr>\n",
       "    <tr>\n",
       "      <th>$f(t,T_1,T_2)$</th>\n",
       "      <td>0.029833</td>\n",
       "      <td>NaN</td>\n",
       "    </tr>\n",
       "    <tr>\n",
       "      <th>$r(T_1,T_2)$</th>\n",
       "      <td>NaN</td>\n",
       "      <td>0.057343</td>\n",
       "    </tr>\n",
       "    <tr>\n",
       "      <th>$Z(t,T_2)$</th>\n",
       "      <td>0.959399</td>\n",
       "      <td>1.000000</td>\n",
       "    </tr>\n",
       "    <tr>\n",
       "      <th>$P(t;0,T_1,T_2)$</th>\n",
       "      <td>0.009192</td>\n",
       "      <td>NaN</td>\n",
       "    </tr>\n",
       "    <tr>\n",
       "      <th>$V(t;0,T_1,T_2)$</th>\n",
       "      <td>NaN</td>\n",
       "      <td>-0.004174</td>\n",
       "    </tr>\n",
       "  </tbody>\n",
       "</table>\n",
       "</div>"
      ],
      "text/plain": [
       "                  2023-07-26  Hypothetical: 2023-11-15\n",
       "$f(0,T_1,T_2)$      0.048995                  0.048995\n",
       "$f(t,T_1,T_2)$      0.029833                       NaN\n",
       "$r(T_1,T_2)$             NaN                  0.057343\n",
       "$Z(t,T_2)$          0.959399                  1.000000\n",
       "$P(t;0,T_1,T_2)$    0.009192                       NaN\n",
       "$V(t;0,T_1,T_2)$         NaN                 -0.004174"
      ]
     },
     "execution_count": 46,
     "metadata": {},
     "output_type": "execute_result"
    }
   ],
   "source": [
    "# Display results\n",
    "fra_tab = pd.DataFrame({'$f(0,T_1,T_2)$': curve_set[QUOTE_DATE].loc[.5,'forward rate'], '$f(t,T_1,T_2)$': curve_interim.loc[.25,'forward rate'], '$r(T_1,T_2)$':np.nan, '$Z(t,T_2)$': curve_interim.loc[.75,'spot discount'], '$P(t;0,T_1,T_2)$': fra},index=[t]).T\n",
    "fra_tab_hypo = pd.DataFrame({'$f(0,T_1,T_2)$': curve_set[QUOTE_DATE].loc[.5,'forward rate'], '$f(t,T_1,T_2)$':np.nan, '$r(T_1,T_2)$': curve_interim.loc[.5,'spot rate'], '$Z(t,T_2)$': 1, '$V(t;0,T_1,T_2)$': fra_hypothetical},index=[f'Hypothetical: {T1}']).T\n",
    "\n",
    "index_special = fra_tab.index[-2:]\n",
    "index_highlight = fra_tab.index[-1]\n",
    "\n",
    "pd.concat([fra_tab,fra_tab_hypo],axis=1)"
   ]
  },
  {
   "cell_type": "code",
   "execution_count": null,
   "metadata": {},
   "outputs": [],
   "source": []
  },
  {
   "cell_type": "markdown",
   "metadata": {
    "hidden": true
   },
   "source": [
    "***"
   ]
  }
 ],
 "metadata": {
  "hide_input": false,
  "kernelspec": {
   "display_name": "Python 3",
   "language": "python",
   "name": "python3"
  },
  "language_info": {
   "codemirror_mode": {
    "name": "ipython",
    "version": 3
   },
   "file_extension": ".py",
   "mimetype": "text/x-python",
   "name": "python",
   "nbconvert_exporter": "python",
   "pygments_lexer": "ipython3",
   "version": "3.7.6"
  }
 },
 "nbformat": 4,
 "nbformat_minor": 5
}
