{
 "cells": [
  {
   "cell_type": "code",
   "execution_count": 12,
   "id": "07a4ad84",
   "metadata": {
    "scrolled": true
   },
   "outputs": [],
   "source": [
    "import pandas as pd\n",
    "from xbbg import blp\n",
    "import matplotlib.pyplot as plt\n",
    "\n",
    "import string\n",
    "\n",
    "\n",
    "import sys\n",
    "sys.path.insert(0, '../cmds')\n",
    "from utils import *"
   ]
  },
  {
   "cell_type": "markdown",
   "id": "b1558a2c",
   "metadata": {},
   "source": [
    "# Parameters"
   ]
  },
  {
   "cell_type": "code",
   "execution_count": 13,
   "id": "928e8f1c",
   "metadata": {},
   "outputs": [],
   "source": [
    "SAVE_DATA = True\n",
    "\n",
    "STARTDATE = '2000-01-01'\n",
    "ENDDATE = '2024-01-15'"
   ]
  },
  {
   "cell_type": "markdown",
   "id": "dd37875a",
   "metadata": {},
   "source": [
    "# LIBOR Swaps"
   ]
  },
  {
   "cell_type": "code",
   "execution_count": 14,
   "id": "60f84e3b",
   "metadata": {},
   "outputs": [],
   "source": [
    "maturities = [1,5,10,15,20,25,30]\n",
    "ticks = [f'USSWAP{mat} Curncy' for mat in maturities]\n",
    "swaps = blp.bdh(tickers=ticks, flds='last_price',\\\n",
    "        start_date=STARTDATE, end_date=ENDDATE)#.droplevel(level=1,axis=1)\n",
    "\n",
    "swaps.index = pd.to_datetime(swaps.index)\n",
    "\n",
    "swaps.columns = maturities\n",
    "swaps.sort_index(axis=1,inplace=True)"
   ]
  },
  {
   "cell_type": "code",
   "execution_count": 15,
   "id": "fdf128ac",
   "metadata": {},
   "outputs": [],
   "source": [
    "if SAVE_DATA:\n",
    "    outfile = f'../data/libor_swaps.xlsx'\n",
    "    with pd.ExcelWriter(outfile) as writer:  \n",
    "#        info.to_excel(writer, sheet_name= 'info', index=True)\n",
    "        swaps.to_excel(writer, sheet_name= 'data', index=True)"
   ]
  }
 ],
 "metadata": {
  "hide_input": false,
  "kernelspec": {
   "display_name": "Python 3 (ipykernel)",
   "language": "python",
   "name": "python3"
  },
  "language_info": {
   "codemirror_mode": {
    "name": "ipython",
    "version": 3
   },
   "file_extension": ".py",
   "mimetype": "text/x-python",
   "name": "python",
   "nbconvert_exporter": "python",
   "pygments_lexer": "ipython3",
   "version": "3.9.6"
  }
 },
 "nbformat": 4,
 "nbformat_minor": 5
}
