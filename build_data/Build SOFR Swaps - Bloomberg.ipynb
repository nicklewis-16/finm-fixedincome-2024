{
 "cells": [
  {
   "cell_type": "code",
   "execution_count": 1,
   "id": "470aac6e",
   "metadata": {},
   "outputs": [],
   "source": [
    "import pandas as pd\n",
    "from xbbg import blp\n",
    "import matplotlib.pyplot as plt\n",
    "\n",
    "import string\n",
    "\n",
    "\n",
    "import sys\n",
    "sys.path.insert(0, '../cmds')\n",
    "from utils import *"
   ]
  },
  {
   "cell_type": "markdown",
   "id": "46711953",
   "metadata": {},
   "source": [
    "# Parameters"
   ]
  },
  {
   "cell_type": "code",
   "execution_count": 2,
   "id": "9b826ed5",
   "metadata": {},
   "outputs": [],
   "source": [
    "SAVE_DATA = True\n",
    "\n",
    "STARTDATE = '2018-01-01'\n",
    "ENDDATE = '2024-01-15'"
   ]
  },
  {
   "cell_type": "markdown",
   "id": "0961c857",
   "metadata": {},
   "source": [
    "# SOFR Swaps"
   ]
  },
  {
   "cell_type": "code",
   "execution_count": 3,
   "id": "2ab6c8c2",
   "metadata": {},
   "outputs": [],
   "source": [
    "DO_MONTHS = True\n",
    "\n",
    "month_codes = string.ascii_uppercase[0:11]\n",
    "tenors = [1,2,3,4,5,6,7,8,9,10,15,20,25,30,40,50]\n",
    "\n",
    "ticks = list()\n",
    "\n",
    "for code in tenors:\n",
    "    ticks.append(f'USOSFR{code} Curncy')\n",
    "\n",
    "\n",
    "if DO_MONTHS:\n",
    "    for code in month_codes:\n",
    "        ticks.append(f'USOSFR{code} Curncy')\n",
    "\n",
    "    for code in month_codes:\n",
    "        ticks.append(f'USOSFR1{code} Curncy')\n",
    "\n",
    "    for code in month_codes[2::3]:\n",
    "        ticks.append(f'USOSFR2{code} Curncy')    \n",
    "    \n",
    "\n",
    "maturities = tenors\n",
    "if DO_MONTHS:\n",
    "    maturities += [i/12 for i in range(1,12)]\n",
    "    maturities += [1+i/12 for i in range(1,12)]\n",
    "    maturities += [2+i/12 for i in range(3,12,3)]\n",
    "        \n",
    "map_tick_des = dict(keys=maturities,values=ticks)"
   ]
  },
  {
   "cell_type": "code",
   "execution_count": 4,
   "id": "cf818028",
   "metadata": {},
   "outputs": [],
   "source": [
    "swaps = blp.bdh(tickers=ticks, flds='last_price',\\\n",
    "        start_date=STARTDATE, end_date=ENDDATE).droplevel(level=1,axis=1)\n",
    "\n",
    "swaps.index = pd.to_datetime(swaps.index)\n",
    "\n",
    "swaps.columns = maturities\n",
    "swaps.sort_index(axis=1,inplace=True)"
   ]
  },
  {
   "cell_type": "code",
   "execution_count": 5,
   "id": "af72c557",
   "metadata": {},
   "outputs": [],
   "source": [
    "info = pd.DataFrame(map_tick_des)\n",
    "info.columns = ['maturity','BB ticker']\n",
    "info = info.set_index('maturity').sort_index()"
   ]
  },
  {
   "cell_type": "code",
   "execution_count": null,
   "id": "84ee233c",
   "metadata": {},
   "outputs": [],
   "source": [
    "if SAVE_DATA:\n",
    "    outfile = f'../data/sofr_swaps.xlsx'\n",
    "    with pd.ExcelWriter(outfile) as writer:  \n",
    "        info.to_excel(writer, sheet_name= 'info', index=True)\n",
    "        swaps.to_excel(writer, sheet_name= 'data', index=True)"
   ]
  },
  {
   "cell_type": "markdown",
   "id": "09e5fce9",
   "metadata": {},
   "source": [
    "## References\n",
    "\n",
    "### Why the spike in SOFR on Sep 17, 2019?\n",
    "https://www.federalreserve.gov/econres/notes/feds-notes/what-happened-in-money-markets-in-september-2019-20200227.htm\n",
    "\n",
    "https://en.wikipedia.org/wiki/September_2019_events_in_the_U.S._repo_market"
   ]
  }
 ],
 "metadata": {
  "hide_input": false,
  "kernelspec": {
   "display_name": "Python 3 (ipykernel)",
   "language": "python",
   "name": "python3"
  },
  "language_info": {
   "codemirror_mode": {
    "name": "ipython",
    "version": 3
   },
   "file_extension": ".py",
   "mimetype": "text/x-python",
   "name": "python",
   "nbconvert_exporter": "python",
   "pygments_lexer": "ipython3",
   "version": "3.9.6"
  }
 },
 "nbformat": 4,
 "nbformat_minor": 5
}
