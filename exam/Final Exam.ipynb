{
 "cells": [
  {
   "cell_type": "markdown",
   "metadata": {
    "jp-MarkdownHeadingCollapsed": true,
    "tags": []
   },
   "source": [
    "# Final Exam\n",
    "\n",
    "## FINM 37400 - 2024\n",
    "\n",
    "### UChicago Financial Mathematics\n",
    "\n",
    "* Mark Hendricks\n",
    "* hendricks@uchicago.edu"
   ]
  },
  {
   "cell_type": "markdown",
   "metadata": {},
   "source": [
    "***"
   ]
  },
  {
   "cell_type": "markdown",
   "metadata": {},
   "source": [
    "# Instructions"
   ]
  },
  {
   "cell_type": "markdown",
   "metadata": {},
   "source": [
    "## Please note the following:\n",
    "\n",
    "Time\n",
    "* You have 180 minutes to complete the exam.\n",
    "* For every minute late you submit the exam, you will lose one point.\n",
    "\n",
    "Submission\n",
    "* You will upload your solution to the Final Exam assignment on Canvas.\n",
    "* Your submission should be readable, (the graders can understand your answers,) and it should include all code used in your analysis in a file format that the code can be executed. (ie. .ipynb preferred, .pdf is unacceptable.)\n",
    "\n",
    "Rules\n",
    "* The exam is open-material, closed-communication.\n",
    "* You do not need to cite material from the course github repo--you are welcome to use the code posted there without citation, (only for this exam.)\n",
    "\n",
    "Advice\n",
    "* If you find any question to be unclear, state your interpretation and proceed. We will only answer questions of interpretation if there is a typo, error, etc.\n",
    "* The exam will be graded for partial credit."
   ]
  },
  {
   "cell_type": "markdown",
   "metadata": {},
   "source": [
    "## Data\n",
    "\n",
    "**All data files are found in the class github repo, in the `data` folder.**\n",
    "\n",
    "This exam makes use of the following data files:\n",
    "\n",
    "#### Section 2\n",
    "* New file: `select_maturities_2017-02-07.xlsx`\n",
    "\n",
    "#### Section 3\n",
    "* Familiar file: `famabliss_strips_2023-12-29.xlsx`"
   ]
  },
  {
   "cell_type": "markdown",
   "metadata": {},
   "source": [
    "## Scoring\n",
    "\n",
    "| Problem | Points |\n",
    "|---------|--------|\n",
    "| 1       | 25     |\n",
    "| 2       | 45     |\n",
    "| 3       | 60     |\n",
    "| 4       | 35     |\n",
    "| **Total**   | **165**|"
   ]
  },
  {
   "cell_type": "markdown",
   "metadata": {},
   "source": [
    "***"
   ]
  },
  {
   "cell_type": "markdown",
   "metadata": {},
   "source": [
    "# 1. Long-Short Trades"
   ]
  },
  {
   "cell_type": "markdown",
   "metadata": {},
   "source": [
    "Consider the following market data as of `Dec 29, 2023`.\n",
    "\n",
    "The table below shows two Treasury securities, a T-note and a T-bond. They mature on the same date."
   ]
  },
  {
   "cell_type": "code",
   "execution_count": 1,
   "metadata": {},
   "outputs": [
    {
     "data": {
      "text/html": [
       "<div>\n",
       "<style scoped>\n",
       "    .dataframe tbody tr th:only-of-type {\n",
       "        vertical-align: middle;\n",
       "    }\n",
       "\n",
       "    .dataframe tbody tr th {\n",
       "        vertical-align: top;\n",
       "    }\n",
       "\n",
       "    .dataframe thead th {\n",
       "        text-align: right;\n",
       "    }\n",
       "</style>\n",
       "<table border=\"1\" class=\"dataframe\">\n",
       "  <thead>\n",
       "    <tr style=\"text-align: right;\">\n",
       "      <th></th>\n",
       "      <th>207391</th>\n",
       "      <th>204095</th>\n",
       "    </tr>\n",
       "  </thead>\n",
       "  <tbody>\n",
       "    <tr>\n",
       "      <th>issue date</th>\n",
       "      <td>2019-08-15</td>\n",
       "      <td>1999-08-15</td>\n",
       "    </tr>\n",
       "    <tr>\n",
       "      <th>maturity date</th>\n",
       "      <td>2029-08-15</td>\n",
       "      <td>2029-08-15</td>\n",
       "    </tr>\n",
       "    <tr>\n",
       "      <th>coupon rate</th>\n",
       "      <td>0.01625</td>\n",
       "      <td>0.06125</td>\n",
       "    </tr>\n",
       "    <tr>\n",
       "      <th>clean price</th>\n",
       "      <td>89.03125</td>\n",
       "      <td>111.0391</td>\n",
       "    </tr>\n",
       "    <tr>\n",
       "      <th>accrued interest</th>\n",
       "      <td>0.6005</td>\n",
       "      <td>2.2636</td>\n",
       "    </tr>\n",
       "    <tr>\n",
       "      <th>ytm</th>\n",
       "      <td>0.037677</td>\n",
       "      <td>0.038784</td>\n",
       "    </tr>\n",
       "    <tr>\n",
       "      <th>duration</th>\n",
       "      <td>5.3494</td>\n",
       "      <td>4.7967</td>\n",
       "    </tr>\n",
       "  </tbody>\n",
       "</table>\n",
       "</div>"
      ],
      "text/plain": [
       "                      207391      204095\n",
       "issue date        2019-08-15  1999-08-15\n",
       "maturity date     2029-08-15  2029-08-15\n",
       "coupon rate          0.01625     0.06125\n",
       "clean price         89.03125    111.0391\n",
       "accrued interest      0.6005      2.2636\n",
       "ytm                 0.037677    0.038784\n",
       "duration              5.3494      4.7967"
      ]
     },
     "execution_count": 1,
     "metadata": {},
     "output_type": "execute_result"
    }
   ],
   "source": [
    "import pandas as pd\n",
    "summary = pd.DataFrame(index=[],columns = [207391,204095],dtype=float)\n",
    "summary.loc['issue date'] = ['2019-08-15','1999-08-15']\n",
    "summary.loc['maturity date'] = ['2029-08-15','2029-08-15']\n",
    "summary.loc['coupon rate'] = [.01625, .06125]\n",
    "summary.loc['clean price'] = [89.03125,111.0391]\n",
    "summary.loc['accrued interest'] = [.6005, 2.2636]\n",
    "summary.loc['ytm'] = [.037677, .038784]\n",
    "summary.loc['duration'] = [5.3494,4.7967]\n",
    "summary"
   ]
  },
  {
   "cell_type": "markdown",
   "metadata": {},
   "source": [
    "### 1.1. (5pts)\n",
    "\n",
    "Explain the long-short trade you would enter based on the market data above, without any further calculation. "
   ]
  },
  {
   "cell_type": "markdown",
   "metadata": {},
   "source": [
    "### 1.2. (5pts)\n",
    "\n",
    "Size your trade.\n",
    "* Suppose the long side is set to $100 million market value. \n",
    "* Size the short to be duration-neutral.\n",
    "\n",
    "Report the market value in the short-side of the trade and the number of long and short contracts."
   ]
  },
  {
   "cell_type": "markdown",
   "metadata": {},
   "source": [
    "### 1.3. (5pts)\n",
    "\n",
    "What are the risks of this trade in the short-term and in the long-term?"
   ]
  },
  {
   "cell_type": "markdown",
   "metadata": {},
   "source": [
    "### 1.4. (5pts)\n",
    "\n",
    "Use **modified duration**--not the Macauley duration reported above--to estimate how much pnl will be earned if the securities converge (symmetrically)."
   ]
  },
  {
   "cell_type": "markdown",
   "metadata": {},
   "source": [
    "### 1.5. (5pts)\n",
    "\n",
    "For which of these securities will the duration approximation be less accurate? Explain."
   ]
  },
  {
   "cell_type": "markdown",
   "metadata": {},
   "source": [
    "***"
   ]
  },
  {
   "cell_type": "markdown",
   "metadata": {},
   "source": [
    "# 2. Extracting Curves"
   ]
  },
  {
   "cell_type": "markdown",
   "metadata": {},
   "source": [
    "Use the selected treasury quotes in the file, `select_maturities_2017-02-07.xlsx`.\n",
    "\n",
    "* Market quots are provided for treasury securities expiring approximately every six months over the next ten years.\n",
    "* You are welcome to assume that they mature at exaclty six-year increments or to use the exact dates.\n",
    "* Consider the `price` column to represent the dirty mid price. Use it as quoted, without further adjustment."
   ]
  },
  {
   "cell_type": "markdown",
   "metadata": {},
   "source": [
    "### 2.1 (10pts)\n",
    "\n",
    "Bootstrap the spot curve. Report it in both...\n",
    "* discount factors, $Z$\n",
    "* (semiannually compounded) discount rates, $r$"
   ]
  },
  {
   "cell_type": "markdown",
   "metadata": {},
   "source": [
    "### 2.2 (10pts)\n",
    "\n",
    "Calculate the Nelson-Siegel curve using the parameters below. (Not the NS-extended; just four parameters.)\n",
    "\n",
    "Report both\n",
    "* discount factors, $Z$\n",
    "* (semiannually compounded) discount rates, $r$"
   ]
  },
  {
   "cell_type": "code",
   "execution_count": 2,
   "metadata": {},
   "outputs": [
    {
     "data": {
      "text/html": [
       "<div>\n",
       "<style scoped>\n",
       "    .dataframe tbody tr th:only-of-type {\n",
       "        vertical-align: middle;\n",
       "    }\n",
       "\n",
       "    .dataframe tbody tr th {\n",
       "        vertical-align: top;\n",
       "    }\n",
       "\n",
       "    .dataframe thead th {\n",
       "        text-align: right;\n",
       "    }\n",
       "</style>\n",
       "<table border=\"1\" class=\"dataframe\">\n",
       "  <thead>\n",
       "    <tr style=\"text-align: right;\">\n",
       "      <th></th>\n",
       "      <th>theta0</th>\n",
       "      <th>theta1</th>\n",
       "      <th>theta2</th>\n",
       "      <th>lambda1</th>\n",
       "    </tr>\n",
       "  </thead>\n",
       "  <tbody>\n",
       "    <tr>\n",
       "      <th>Nelson-Siegel parameters</th>\n",
       "      <td>0.031627</td>\n",
       "      <td>-0.025166</td>\n",
       "      <td>-0.020701</td>\n",
       "      <td>1.514887</td>\n",
       "    </tr>\n",
       "  </tbody>\n",
       "</table>\n",
       "</div>"
      ],
      "text/plain": [
       "                            theta0    theta1    theta2   lambda1\n",
       "Nelson-Siegel parameters  0.031627 -0.025166 -0.020701  1.514887"
      ]
     },
     "metadata": {},
     "output_type": "display_data"
    }
   ],
   "source": [
    "params = pd.DataFrame(columns=['Nelson-Siegel parameters'],index=['theta0', 'theta1','theta2','lambda1'],data=[0.031627,-0.025166, -0.020701, 1.514887]).T\n",
    "display(params)"
   ]
  },
  {
   "cell_type": "markdown",
   "metadata": {},
   "source": [
    "### 2.3 (5pts)\n",
    "\n",
    "Plot...\n",
    "* bootstrapped spot rates\n",
    "* Nelson-Siegel spot rates\n",
    "* provided ytm"
   ]
  },
  {
   "cell_type": "markdown",
   "metadata": {},
   "source": [
    "### 2.4 (10pts)\n",
    "\n",
    "Which of the two spot rate curves (bootstrapped or Nelson-Siegel) would be better for...\n",
    "* pricing the provided sample\n",
    "* building spot rates out to 30 years\n",
    "* calculating forward rates\n",
    "\n",
    "For each of these three questions, be **specific** in your answer."
   ]
  },
  {
   "cell_type": "markdown",
   "metadata": {},
   "source": [
    "### 2.5 (5pts)\n",
    "\n",
    "Consider the bootstrapped curve and its associated forward curve. (No need to calculate the forward curve.)\n",
    "\n",
    "Conceptually, do you expect it is higher or lower than the spot-rate curve at\n",
    "* $T=1$\n",
    "* $T=10$\n",
    "\n",
    "Explain."
   ]
  },
  {
   "cell_type": "markdown",
   "metadata": {},
   "source": [
    "### 2.6 (5pts)\n",
    "\n",
    "Use the bootstrapped spot curve to calculate the forward rate for $T_1=3\\to T_2=3.5$."
   ]
  },
  {
   "cell_type": "markdown",
   "metadata": {},
   "source": [
    "***"
   ]
  },
  {
   "cell_type": "markdown",
   "metadata": {},
   "source": [
    "# 3. Trading the Yield Curve\n",
    "\n"
   ]
  },
  {
   "cell_type": "markdown",
   "metadata": {},
   "source": [
    "Use the file, `famabliss_strips_2023-12-29.xlsx` for the following problem.\n",
    "\n",
    "* The file provides prices for **strips** which are zero-coupon bonds. \n",
    "* Assume face value of 100.\n",
    "* Because these prices are on zero-coupon bonds, they can be interpreted as discount factors, $Z$, directly.\n",
    "\n",
    "Note that you will make use of only a few rows of the data set."
   ]
  },
  {
   "cell_type": "markdown",
   "metadata": {},
   "source": [
    "### 1. (10pts)\n",
    "\n",
    "Set up a trade as of `2010-01-29` to \n",
    "* go long 100 million (market value) of the 5-year.\n",
    "* short the 2-year strips in a quantity that is duration hedged.\n",
    "\n",
    "List the positions you hold long and short. \n",
    "* Assume you are financing the positions directly; no worries about haircuts. \n",
    "* Assume there are no market frictions, so you can short securities and immediately receive their market value. \n",
    "* (No need to worry about borrowing costs for the short.)"
   ]
  },
  {
   "cell_type": "markdown",
   "metadata": {},
   "source": [
    "### 2. (5pts)\n",
    "As of `2011-01-31`, assess the pnl on the long, short, and net trade."
   ]
  },
  {
   "cell_type": "markdown",
   "metadata": {},
   "source": [
    "### 3. (10pts)\n",
    "On `2011-01-31`, roll over the trade.\n",
    "* close out the short positions\n",
    "* enter new short positions in 2-year strips that are a duration hedge against your (continuing) long positions.\n",
    "\n",
    "List the details of your short and long positions in terms of market value and face value of each side of the trade."
   ]
  },
  {
   "cell_type": "markdown",
   "metadata": {},
   "source": [
    "### 4. (5pts)\n",
    "On `2012-01-31`, close out the trade.\n",
    "\n",
    "Report...\n",
    "* pnl for the long, short, and net of the trade."
   ]
  },
  {
   "cell_type": "markdown",
   "metadata": {},
   "source": [
    "### 5. (5pts)\n",
    "How did this trade do compared to a long-only trade in 5-year notes? Explain."
   ]
  },
  {
   "cell_type": "markdown",
   "metadata": {},
   "source": [
    "### 6. (5pts)\n",
    "\n",
    "Notwithstanding the duration hedge, why was the trade still sensitive to changing levels of the spot rate curve?\n",
    "\n",
    "Be specific in your answer, and consider which quantitative metric would support your answer."
   ]
  },
  {
   "cell_type": "markdown",
   "metadata": {},
   "source": [
    "### 7. (5pts)\n",
    "\n",
    "Does this trade rely on the Expectations Hypothesis being true or false? How about this type of trade in general?"
   ]
  },
  {
   "cell_type": "markdown",
   "metadata": {},
   "source": [
    "### 8. (5pts)\n",
    "\n",
    "As of `2012-01-31`, is the market environment favorable to this type of long-short trade?\n",
    "\n",
    "Be specific."
   ]
  },
  {
   "cell_type": "markdown",
   "metadata": {},
   "source": [
    "### 9. (5pts)\n",
    "\n",
    "As of `2010-01-29`, what is the continuously compounded forward rate from $T_1=2\\to T_2=4$?"
   ]
  },
  {
   "cell_type": "markdown",
   "metadata": {},
   "source": [
    "### 10. (5pts)\n",
    "\n",
    "As of `2012-01-31`, is the two-year continuously-compoounded spot rate, $r(0,2)$ higher or lower than the forward rate calculated above for `2010-01-29`?\n",
    "\n",
    "Is this surprising?"
   ]
  },
  {
   "cell_type": "markdown",
   "metadata": {},
   "source": [
    "***"
   ]
  },
  {
   "cell_type": "markdown",
   "metadata": {},
   "source": [
    "# 4. The Swap-Spread"
   ]
  },
  {
   "cell_type": "markdown",
   "metadata": {},
   "source": [
    "Consider the market data below. \n",
    "* It refers to **20-year** T-bonds and swaps.\n",
    "* Assume the T-bond has exactly 20-years to maturity, with a coupon that exactly matches the YTM below."
   ]
  },
  {
   "cell_type": "code",
   "execution_count": 3,
   "metadata": {},
   "outputs": [
    {
     "data": {
      "text/html": [
       "<style type=\"text/css\">\n",
       "</style>\n",
       "<table id=\"T_817c0\">\n",
       "  <thead>\n",
       "    <tr>\n",
       "      <th class=\"blank level0\" >&nbsp;</th>\n",
       "      <th id=\"T_817c0_level0_col0\" class=\"col_heading level0 col0\" >Nov 2018</th>\n",
       "      <th id=\"T_817c0_level0_col1\" class=\"col_heading level0 col1\" >Nov 2023</th>\n",
       "    </tr>\n",
       "  </thead>\n",
       "  <tbody>\n",
       "    <tr>\n",
       "      <th id=\"T_817c0_level0_row0\" class=\"row_heading level0 row0\" >YTM</th>\n",
       "      <td id=\"T_817c0_row0_col0\" class=\"data row0 col0\" >3.1480%</td>\n",
       "      <td id=\"T_817c0_row0_col1\" class=\"data row0 col1\" >4.6670%</td>\n",
       "    </tr>\n",
       "    <tr>\n",
       "      <th id=\"T_817c0_level0_row1\" class=\"row_heading level0 row1\" >swap rate</th>\n",
       "      <td id=\"T_817c0_row1_col0\" class=\"data row1 col0\" >2.7639%</td>\n",
       "      <td id=\"T_817c0_row1_col1\" class=\"data row1 col1\" >3.9895%</td>\n",
       "    </tr>\n",
       "  </tbody>\n",
       "</table>\n"
      ],
      "text/plain": [
       "<pandas.io.formats.style.Styler at 0x10728df40>"
      ]
     },
     "execution_count": 3,
     "metadata": {},
     "output_type": "execute_result"
    }
   ],
   "source": [
    "summary = pd.DataFrame(index=['YTM','swap rate'],columns = ['Nov 2018','Nov 2023'],dtype=float)\n",
    "summary.loc['YTM'] = [.031480, .046670]\n",
    "summary.loc['swap rate'] = [.027639,.039895]\n",
    "summary.style.format('{:.4%}')"
   ]
  },
  {
   "cell_type": "markdown",
   "metadata": {},
   "source": [
    "### 4.1. (5pts)\n",
    "\n",
    "Consider `Nov 2018`. Suppose you enter into a swap-spread trade.\n",
    "* You go long \\$100 million **market value** of 20-year T-bonds.\n",
    "* You simultaneously enter a 20-year swap, paying-fixed, with notional of \\$100 million.\n",
    "\n",
    "\n",
    "Report the \n",
    "* price of the T-bond in Nov 2018.\n",
    "* amount of T-bonds purchased, (each face value of 100)."
   ]
  },
  {
   "cell_type": "markdown",
   "metadata": {},
   "source": [
    "### 4.2. (5pts)\n",
    "\n",
    "Report the first cashflow of the trade, in May 2019.\n",
    "\n",
    "For simplicity, \n",
    "* assume the swap pays semiannually, at the same date the T-bond pays coupons.\n",
    "* the repo rate involved in the trade cancels out with the floating rate of the swap.\n",
    "* the repo term is semiannually, corresponding to the coupon and swap dates.\n",
    "* there are not any margin calls or distributions in the discussion below.\n",
    "\n",
    "If the haircut is 4\\% to repo the T-bonds, then what is the May 2019 cashflow as a percentage of the equity capital in the position?"
   ]
  },
  {
   "cell_type": "markdown",
   "metadata": {},
   "source": [
    "### 4.3. (5pts)\n",
    "\n",
    "Report the risk of the trade.\n",
    "* Duration and dollar duration for the T-bond\n",
    "* Duration and dollar duration for the swap\n",
    "\n",
    "Note that you are reporting the usual, Macauley, duration--not the modified duration. \n",
    "\n",
    "For each of these duration calculations, use only the YTM and swap rates--no need for a discount curve."
   ]
  },
  {
   "cell_type": "markdown",
   "metadata": {},
   "source": [
    "### 4.4. (5pts)\n",
    "\n",
    "Use **modified** duration to answer the following:\n",
    "\n",
    "* What is the expected profit and loss if the swap-spread goes to zero?\n",
    "* What return would this be relative to the initial equity capital to put on the position?\n",
    "\n",
    "#### Note:\n",
    "We refer to the spread (swap-rate minus T-bond YTM) going to zero symmetrically (the YTM falls and swap rate rise equally until converging.)"
   ]
  },
  {
   "cell_type": "markdown",
   "metadata": {},
   "source": [
    "### 4.5. (10pts)\n",
    "\n",
    "Now it is `Nov 2023`. Use the market quotes to report...\n",
    "* the value of the long T-bond positions (15 years-to-maturity)\n",
    "* the value of the paying-fixed swap (15 years-to-expiration)\n",
    "* the net value of your position and return on your equity capital."
   ]
  },
  {
   "cell_type": "markdown",
   "metadata": {},
   "source": [
    "### 4.6. (5pts)\n",
    "\n",
    "Assume there are no market frictions, and there is more credit risk in the swap than in the T-bond.\n",
    "\n",
    "In that case, is the swap-spread trade an arbitrage, a statistically favorable trade, both, or neither? \n",
    "\n",
    "Be specific whether your answer is for the long-term or short-term."
   ]
  },
  {
   "cell_type": "markdown",
   "metadata": {},
   "source": [
    "***"
   ]
  }
 ],
 "metadata": {
  "hide_input": false,
  "kernelspec": {
   "display_name": "Python 3 (ipykernel)",
   "language": "python",
   "name": "python3"
  },
  "language_info": {
   "codemirror_mode": {
    "name": "ipython",
    "version": 3
   },
   "file_extension": ".py",
   "mimetype": "text/x-python",
   "name": "python",
   "nbconvert_exporter": "python",
   "pygments_lexer": "ipython3",
   "version": "3.9.6"
  }
 },
 "nbformat": 4,
 "nbformat_minor": 4
}
