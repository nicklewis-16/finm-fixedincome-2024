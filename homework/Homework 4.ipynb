{
 "cells": [
  {
   "cell_type": "markdown",
   "id": "d826a2f7",
   "metadata": {},
   "source": [
    "# Solution 4\n",
    "\n",
    "## FINM 37400 - 2024\n",
    "\n",
    "### UChicago Financial Mathematics\n",
    "\n",
    "* Mark Hendricks\n",
    "* hendricks@uchicago.edu"
   ]
  },
  {
   "cell_type": "markdown",
   "id": "09984529",
   "metadata": {},
   "source": [
    "# 1 HBS Case: The Information Content of the Yield Curve"
   ]
  },
  {
   "cell_type": "markdown",
   "id": "5eecd427",
   "metadata": {},
   "source": [
    "## 1.1\n",
    "\n",
    "The Term Spread\n",
    "* What is the term spread? \n",
    "* What is the preferred measure of the term spread in the case?\n",
    "* What evidence is cited for the term spread's power in predicting recessions?\n",
    "* Which is more important, the level of the term spread, its month-over-month change, or the level of short rates?\n",
    "\n",
    "Using the file `yields.xlsx`, calculate the term spread at the end of the sample.\n",
    "* What does this term spread suggest about economic growth, according to the evidence of Estrella?\n",
    "\n",
    "## 1.2\n",
    "\n",
    "Term premia\n",
    "* What is the term premium? Why is it impossible to get a direct measure of it?\n",
    "* Explain equations (1) and (2). Why does Sacks think this concept of the term spread complicates the relationship found by Estrella?\n",
    "\n",
    "## 1.3\n",
    "\n",
    "Though this case touches on monetary policy, that is not our focus. Rather, our focus is the degree to which the current shape of the yield curve is predictive of future short-term interest rates.\n",
    "\n",
    "Suppose the term premium is zero. \n",
    "* What does a downward-sloping yield curve predict about future short-term rates? \n",
    "* In this case, is it risky to hold long-term bonds or short-term bonds? Is this risk compensated?\n",
    "\n",
    "Suppose the term premium increases 5 percentage points.\n",
    "* What would change about your previous answer?"
   ]
  },
  {
   "cell_type": "markdown",
   "id": "868a6fc7",
   "metadata": {},
   "source": [
    "***"
   ]
  },
  {
   "cell_type": "markdown",
   "id": "fd0972ed",
   "metadata": {},
   "source": [
    "# 2 Calculating Forwards"
   ]
  },
  {
   "cell_type": "markdown",
   "id": "6b76af01",
   "metadata": {},
   "source": [
    "Use the treasury issues in `'../data/select_maturities_2023-08-31.xlsx`. \n",
    "\n",
    "The selected treasuries are at nearly six-month intervals. Approximate that they mature at perfect 6-month intervals. "
   ]
  },
  {
   "cell_type": "markdown",
   "id": "f9c62e7e",
   "metadata": {},
   "source": [
    "## 2.1 \n",
    "Bootstrap the discount factor. \n",
    "\n",
    "Plot the answer in terms of discount factors and discount rates.\n",
    "\n",
    "#### Simplification \n",
    "Though the time-to-maturity (ttm) is not spaced exactly at 6 months, for the purposes of this problem, you are welcome to approximate that they are spaced at exact 6-month intervals.\n",
    "\n",
    "\n",
    "## 2.2\n",
    "Calculate and plot the forward discount factors from $T$ to $T+0.5$, ranging $T$ from 0.5 through 9.5.\n",
    "\n",
    "\n",
    "## 2.3\n",
    "Use the forward discount factors to calculate the `semiannually` compounded forward **rates**.\n",
    "\n",
    "Plot the curve.\n",
    "\n",
    "Also report the forward-rate values from \n",
    "\n",
    "* $T_1=0.5$ to $T_2=1$.\n",
    "* $T_1=9.5$ to $T_2=10$.\n",
    "\n",
    "## 2.4\n",
    "Explain how an FRA between $T_1$ and $T_2$ would function. "
   ]
  },
  {
   "cell_type": "markdown",
   "id": "f463d533",
   "metadata": {},
   "source": [
    "***"
   ]
  }
 ],
 "metadata": {
  "hide_input": false,
  "kernelspec": {
   "display_name": "Python 3 (ipykernel)",
   "language": "python",
   "name": "python3"
  },
  "language_info": {
   "codemirror_mode": {
    "name": "ipython",
    "version": 3
   },
   "file_extension": ".py",
   "mimetype": "text/x-python",
   "name": "python",
   "nbconvert_exporter": "python",
   "pygments_lexer": "ipython3",
   "version": "3.9.6"
  }
 },
 "nbformat": 4,
 "nbformat_minor": 5
}
